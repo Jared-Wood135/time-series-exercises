{
 "cells": [
  {
   "cell_type": "markdown",
   "id": "468f91d2",
   "metadata": {},
   "source": [
    "<div style=\"background-color: orange\">\n",
    "<a id='TableOfContents'></a>\n",
    "    <b><u><i><h1 style='text-align: center'>\n",
    "        Table of Contents\n",
    "    </h1></i></u></b>\n",
    "<li><a href='#imports'>Imports</a></li>\n",
    "<li><a href='#store'>Store Set</a></li>\n",
    "<li><a href='#germany'>Germany Set</a></li>"
   ]
  },
  {
   "cell_type": "markdown",
   "id": "d8c3fd19",
   "metadata": {},
   "source": [
    "<div style='background-color: orange'>\n",
    "<a id='imports'></a>\n",
    "    <b><u><i><h1 style='text-align: center'>\n",
    "        Imports\n",
    "    </h1></i></u></b>\n",
    "<li><a href='#TableOfContents'>Table of Contents</a></li>"
   ]
  },
  {
   "cell_type": "code",
   "execution_count": 1,
   "id": "4ff916e3",
   "metadata": {},
   "outputs": [],
   "source": [
    "# Vectorization and dataframing\n",
    "import numpy as np\n",
    "import pandas as pd\n",
    "\n",
    "# Visualizations\n",
    "import matplotlib.pyplot as plt\n",
    "import seaborn as sns\n",
    "\n",
    "# Datasets\n",
    "import vega_datasets as data\n",
    "\n",
    "# .py file\n",
    "import acquire as a\n",
    "import prepare as p"
   ]
  },
  {
   "cell_type": "markdown",
   "id": "3ad4de6a",
   "metadata": {},
   "source": [
    "<div style='background-color: orange'>\n",
    "<a id='store'></a>\n",
    "    <b><u><i><h1 style='text-align: center'>\n",
    "        Store Set\n",
    "    </h1></i></u></b>\n",
    "<li><a href='#TableOfContents'>Table of Contents</a></li>\n",
    "<li><a href='#storeq1'>Question 1</a></li>\n",
    "<li><a href='#storeq2'>Question 2</a></li>\n",
    "<li><a href='#storeq3'>Question 3</a></li>\n",
    "<li><a href='#storeq4'>Question 4</a></li>\n",
    "<li><a href='#storeq5'>Question 5</a></li>\n",
    "<li><a href='#storeq6'>Question 6</a></li>"
   ]
  },
  {
   "cell_type": "markdown",
   "id": "86dff1e2",
   "metadata": {},
   "source": [
    "Using your store items data:"
   ]
  },
  {
   "cell_type": "code",
   "execution_count": 2,
   "id": "67cad658",
   "metadata": {},
   "outputs": [
    {
     "data": {
      "text/html": [
       "<div>\n",
       "<style scoped>\n",
       "    .dataframe tbody tr th:only-of-type {\n",
       "        vertical-align: middle;\n",
       "    }\n",
       "\n",
       "    .dataframe tbody tr th {\n",
       "        vertical-align: top;\n",
       "    }\n",
       "\n",
       "    .dataframe thead th {\n",
       "        text-align: right;\n",
       "    }\n",
       "</style>\n",
       "<table border=\"1\" class=\"dataframe\">\n",
       "  <thead>\n",
       "    <tr style=\"text-align: right;\">\n",
       "      <th></th>\n",
       "      <th>item_id</th>\n",
       "      <th>item_brand</th>\n",
       "      <th>item_name</th>\n",
       "      <th>item_price</th>\n",
       "      <th>sale_id</th>\n",
       "      <th>sale_date</th>\n",
       "      <th>sale_amount</th>\n",
       "      <th>store_id</th>\n",
       "      <th>store_address</th>\n",
       "      <th>store_zipcode</th>\n",
       "      <th>store_city</th>\n",
       "      <th>store_state</th>\n",
       "    </tr>\n",
       "  </thead>\n",
       "  <tbody>\n",
       "    <tr>\n",
       "      <th>582399</th>\n",
       "      <td>32</td>\n",
       "      <td>Barefoot</td>\n",
       "      <td>Barefoot Pinot Grigio  187</td>\n",
       "      <td>0.68</td>\n",
       "      <td>582400</td>\n",
       "      <td>2017-09-28</td>\n",
       "      <td>52</td>\n",
       "      <td>9</td>\n",
       "      <td>735 SW Military Dr</td>\n",
       "      <td>78221</td>\n",
       "      <td>San Antonio</td>\n",
       "      <td>TX</td>\n",
       "    </tr>\n",
       "  </tbody>\n",
       "</table>\n",
       "</div>"
      ],
      "text/plain": [
       "        item_id item_brand                   item_name  item_price  sale_id  \\\n",
       "582399       32   Barefoot  Barefoot Pinot Grigio  187        0.68   582400   \n",
       "\n",
       "         sale_date  sale_amount  store_id       store_address  store_zipcode  \\\n",
       "582399  2017-09-28           52         9  735 SW Military Dr          78221   \n",
       "\n",
       "         store_city store_state  \n",
       "582399  San Antonio          TX  "
      ]
     },
     "execution_count": 2,
     "metadata": {},
     "output_type": "execute_result"
    }
   ],
   "source": [
    "store = a.acquire_store()\n",
    "store.sample()"
   ]
  },
  {
   "cell_type": "code",
   "execution_count": 3,
   "id": "7f3a6c37",
   "metadata": {},
   "outputs": [
    {
     "data": {
      "text/plain": [
       "(913000, 12)"
      ]
     },
     "execution_count": 3,
     "metadata": {},
     "output_type": "execute_result"
    }
   ],
   "source": [
    "store.shape"
   ]
  },
  {
   "cell_type": "markdown",
   "id": "a63a7fad",
   "metadata": {},
   "source": [
    "---"
   ]
  },
  {
   "cell_type": "markdown",
   "id": "ed0cd03d",
   "metadata": {},
   "source": [
    "<a id='storeq1'></a>\n",
    "### 1. Convert date column to datetime format.\n",
    "\n",
    "<li><a href='#TableOfContents'>Table of Contents</a></li>\n",
    "<li><a href='#store'>Store Set Top</a></li>"
   ]
  },
  {
   "cell_type": "code",
   "execution_count": 4,
   "id": "1218f27e",
   "metadata": {},
   "outputs": [
    {
     "data": {
      "text/plain": [
       "item_id                   int64\n",
       "item_brand               object\n",
       "item_name                object\n",
       "item_price              float64\n",
       "sale_id                   int64\n",
       "sale_date        datetime64[ns]\n",
       "sale_amount               int64\n",
       "store_id                  int64\n",
       "store_address            object\n",
       "store_zipcode             int64\n",
       "store_city               object\n",
       "store_state              object\n",
       "dtype: object"
      ]
     },
     "execution_count": 4,
     "metadata": {},
     "output_type": "execute_result"
    }
   ],
   "source": [
    "# Convert 'sale_date' column from object to datetime\n",
    "store.sale_date = pd.to_datetime(store.sale_date)\n",
    "store.dtypes"
   ]
  },
  {
   "cell_type": "markdown",
   "id": "be40d678",
   "metadata": {},
   "source": [
    "---"
   ]
  },
  {
   "cell_type": "markdown",
   "id": "e6588131",
   "metadata": {},
   "source": [
    "<a id='storeq2'></a>\n",
    "### 2. Plot the distribution of sale_amount and item_price.\n",
    "\n",
    "<li><a href='#TableOfContents'>Table of Contents</a></li>\n",
    "<li><a href='#store'>Store Set Top</a></li>"
   ]
  },
  {
   "cell_type": "code",
   "execution_count": 5,
   "id": "3074a0cf",
   "metadata": {},
   "outputs": [
    {
     "data": {
      "image/png": "[encoded data removed]",
      "text/plain": [
       "<Figure size 640x480 with 1 Axes>"
      ]
     },
     "metadata": {},
     "output_type": "display_data"
    },
    {
     "data": {
      "image/png": "[encoded data removed]",
      "text/plain": [
       "<Figure size 640x480 with 1 Axes>"
      ]
     },
     "metadata": {},
     "output_type": "display_data"
    }
   ],
   "source": [
    "with plt.style.context('bmh'):\n",
    "    sns.histplot(data=store, x='sale_amount')\n",
    "    plt.title('Distribution of sale_amount')\n",
    "    plt.show()\n",
    "    sns.histplot(data=store, x='item_price')\n",
    "    plt.title('Distribution of item_price')\n",
    "    plt.show()"
   ]
  },
  {
   "cell_type": "markdown",
   "id": "95cfd0ee",
   "metadata": {},
   "source": [
    "---"
   ]
  },
  {
   "cell_type": "markdown",
   "id": "6003c5d6",
   "metadata": {},
   "source": [
    "<a id='storeq3'></a>\n",
    "### 3. Set the index to be the datetime variable.\n",
    "\n",
    "<li><a href='#TableOfContents'>Table of Contents</a></li>\n",
    "<li><a href='#store'>Store Set Top</a></li>"
   ]
  },
  {
   "cell_type": "code",
   "execution_count": 6,
   "id": "4be59688",
   "metadata": {},
   "outputs": [
    {
     "data": {
      "text/html": [
       "<div>\n",
       "<style scoped>\n",
       "    .dataframe tbody tr th:only-of-type {\n",
       "        vertical-align: middle;\n",
       "    }\n",
       "\n",
       "    .dataframe tbody tr th {\n",
       "        vertical-align: top;\n",
       "    }\n",
       "\n",
       "    .dataframe thead th {\n",
       "        text-align: right;\n",
       "    }\n",
       "</style>\n",
       "<table border=\"1\" class=\"dataframe\">\n",
       "  <thead>\n",
       "    <tr style=\"text-align: right;\">\n",
       "      <th></th>\n",
       "      <th>item_id</th>\n",
       "      <th>item_brand</th>\n",
       "      <th>item_name</th>\n",
       "      <th>item_price</th>\n",
       "      <th>sale_id</th>\n",
       "      <th>sale_amount</th>\n",
       "      <th>store_id</th>\n",
       "      <th>store_address</th>\n",
       "      <th>store_zipcode</th>\n",
       "      <th>store_city</th>\n",
       "      <th>store_state</th>\n",
       "    </tr>\n",
       "    <tr>\n",
       "      <th>sale_date</th>\n",
       "      <th></th>\n",
       "      <th></th>\n",
       "      <th></th>\n",
       "      <th></th>\n",
       "      <th></th>\n",
       "      <th></th>\n",
       "      <th></th>\n",
       "      <th></th>\n",
       "      <th></th>\n",
       "      <th></th>\n",
       "      <th></th>\n",
       "    </tr>\n",
       "  </thead>\n",
       "  <tbody>\n",
       "    <tr>\n",
       "      <th>2017-02-02</th>\n",
       "      <td>38</td>\n",
       "      <td>Sundown Naturals</td>\n",
       "      <td>Sundown Naturals Essential Electrolytes Tropic...</td>\n",
       "      <td>3.45</td>\n",
       "      <td>693548</td>\n",
       "      <td>106</td>\n",
       "      <td>10</td>\n",
       "      <td>8503 NW Military Hwy</td>\n",
       "      <td>78231</td>\n",
       "      <td>San Antonio</td>\n",
       "      <td>TX</td>\n",
       "    </tr>\n",
       "  </tbody>\n",
       "</table>\n",
       "</div>"
      ],
      "text/plain": [
       "            item_id        item_brand  \\\n",
       "sale_date                               \n",
       "2017-02-02       38  Sundown Naturals   \n",
       "\n",
       "                                                    item_name  item_price  \\\n",
       "sale_date                                                                   \n",
       "2017-02-02  Sundown Naturals Essential Electrolytes Tropic...        3.45   \n",
       "\n",
       "            sale_id  sale_amount  store_id         store_address  \\\n",
       "sale_date                                                          \n",
       "2017-02-02   693548          106        10  8503 NW Military Hwy   \n",
       "\n",
       "            store_zipcode   store_city store_state  \n",
       "sale_date                                           \n",
       "2017-02-02          78231  San Antonio          TX  "
      ]
     },
     "execution_count": 6,
     "metadata": {},
     "output_type": "execute_result"
    }
   ],
   "source": [
    "store = store.set_index(store.sale_date)\n",
    "store = store.drop(columns='sale_date')\n",
    "store.sample()"
   ]
  },
  {
   "cell_type": "markdown",
   "id": "afd491df",
   "metadata": {},
   "source": [
    "---"
   ]
  },
  {
   "cell_type": "markdown",
   "id": "3e73646d",
   "metadata": {},
   "source": [
    "<a id='storeq4'></a>\n",
    "### 4. Add a 'month' and 'day of week' column to your dataframe.\n",
    "\n",
    "<li><a href='#TableOfContents'>Table of Contents</a></li>\n",
    "<li><a href='#store'>Store Set Top</a></li>"
   ]
  },
  {
   "cell_type": "code",
   "execution_count": 7,
   "id": "958be523",
   "metadata": {},
   "outputs": [
    {
     "data": {
      "text/html": [
       "<div>\n",
       "<style scoped>\n",
       "    .dataframe tbody tr th:only-of-type {\n",
       "        vertical-align: middle;\n",
       "    }\n",
       "\n",
       "    .dataframe tbody tr th {\n",
       "        vertical-align: top;\n",
       "    }\n",
       "\n",
       "    .dataframe thead th {\n",
       "        text-align: right;\n",
       "    }\n",
       "</style>\n",
       "<table border=\"1\" class=\"dataframe\">\n",
       "  <thead>\n",
       "    <tr style=\"text-align: right;\">\n",
       "      <th></th>\n",
       "      <th>item_id</th>\n",
       "      <th>item_brand</th>\n",
       "      <th>item_name</th>\n",
       "      <th>item_price</th>\n",
       "      <th>sale_id</th>\n",
       "      <th>sale_amount</th>\n",
       "      <th>store_id</th>\n",
       "      <th>store_address</th>\n",
       "      <th>store_zipcode</th>\n",
       "      <th>store_city</th>\n",
       "      <th>store_state</th>\n",
       "      <th>month</th>\n",
       "      <th>dayofweek</th>\n",
       "    </tr>\n",
       "    <tr>\n",
       "      <th>sale_date</th>\n",
       "      <th></th>\n",
       "      <th></th>\n",
       "      <th></th>\n",
       "      <th></th>\n",
       "      <th></th>\n",
       "      <th></th>\n",
       "      <th></th>\n",
       "      <th></th>\n",
       "      <th></th>\n",
       "      <th></th>\n",
       "      <th></th>\n",
       "      <th></th>\n",
       "      <th></th>\n",
       "    </tr>\n",
       "  </thead>\n",
       "  <tbody>\n",
       "    <tr>\n",
       "      <th>2013-03-03</th>\n",
       "      <td>43</td>\n",
       "      <td>Ferrara</td>\n",
       "      <td>Ferrara Vanilla Syrup</td>\n",
       "      <td>8.4</td>\n",
       "      <td>766982</td>\n",
       "      <td>41</td>\n",
       "      <td>1</td>\n",
       "      <td>12125 Alamo Ranch Pkwy</td>\n",
       "      <td>78253</td>\n",
       "      <td>San Antonio</td>\n",
       "      <td>TX</td>\n",
       "      <td>3</td>\n",
       "      <td>6</td>\n",
       "    </tr>\n",
       "  </tbody>\n",
       "</table>\n",
       "</div>"
      ],
      "text/plain": [
       "            item_id item_brand              item_name  item_price  sale_id  \\\n",
       "sale_date                                                                    \n",
       "2013-03-03       43    Ferrara  Ferrara Vanilla Syrup         8.4   766982   \n",
       "\n",
       "            sale_amount  store_id           store_address  store_zipcode  \\\n",
       "sale_date                                                                  \n",
       "2013-03-03           41         1  12125 Alamo Ranch Pkwy          78253   \n",
       "\n",
       "             store_city store_state  month  dayofweek  \n",
       "sale_date                                              \n",
       "2013-03-03  San Antonio          TX      3          6  "
      ]
     },
     "execution_count": 7,
     "metadata": {},
     "output_type": "execute_result"
    }
   ],
   "source": [
    "store['month'] = store.index.month\n",
    "store['dayofweek'] = store.index.dayofweek\n",
    "store.sample()"
   ]
  },
  {
   "cell_type": "markdown",
   "id": "08ba9822",
   "metadata": {},
   "source": [
    "---"
   ]
  },
  {
   "cell_type": "markdown",
   "id": "4ad70294",
   "metadata": {},
   "source": [
    "<a id='storeq5'></a>\n",
    "### 5. Add a column to your dataframe, sales_total, which is a derived from sale_amount (total items) and item_price.\n",
    "\n",
    "<li><a href='#TableOfContents'>Table of Contents</a></li>\n",
    "<li><a href='#store'>Store Set Top</a></li>"
   ]
  },
  {
   "cell_type": "code",
   "execution_count": 8,
   "id": "329573e4",
   "metadata": {},
   "outputs": [
    {
     "data": {
      "text/html": [
       "<div>\n",
       "<style scoped>\n",
       "    .dataframe tbody tr th:only-of-type {\n",
       "        vertical-align: middle;\n",
       "    }\n",
       "\n",
       "    .dataframe tbody tr th {\n",
       "        vertical-align: top;\n",
       "    }\n",
       "\n",
       "    .dataframe thead th {\n",
       "        text-align: right;\n",
       "    }\n",
       "</style>\n",
       "<table border=\"1\" class=\"dataframe\">\n",
       "  <thead>\n",
       "    <tr style=\"text-align: right;\">\n",
       "      <th></th>\n",
       "      <th>item_id</th>\n",
       "      <th>item_brand</th>\n",
       "      <th>item_name</th>\n",
       "      <th>item_price</th>\n",
       "      <th>sale_id</th>\n",
       "      <th>sale_amount</th>\n",
       "      <th>store_id</th>\n",
       "      <th>store_address</th>\n",
       "      <th>store_zipcode</th>\n",
       "      <th>store_city</th>\n",
       "      <th>store_state</th>\n",
       "      <th>month</th>\n",
       "      <th>dayofweek</th>\n",
       "      <th>sales_total</th>\n",
       "    </tr>\n",
       "    <tr>\n",
       "      <th>sale_date</th>\n",
       "      <th></th>\n",
       "      <th></th>\n",
       "      <th></th>\n",
       "      <th></th>\n",
       "      <th></th>\n",
       "      <th></th>\n",
       "      <th></th>\n",
       "      <th></th>\n",
       "      <th></th>\n",
       "      <th></th>\n",
       "      <th></th>\n",
       "      <th></th>\n",
       "      <th></th>\n",
       "      <th></th>\n",
       "    </tr>\n",
       "  </thead>\n",
       "  <tbody>\n",
       "    <tr>\n",
       "      <th>2014-04-13</th>\n",
       "      <td>30</td>\n",
       "      <td>Petmate</td>\n",
       "      <td>Petmate Booda Bones Steak Bacon &amp; Chicken Flav...</td>\n",
       "      <td>8.39</td>\n",
       "      <td>539138</td>\n",
       "      <td>31</td>\n",
       "      <td>6</td>\n",
       "      <td>1015 S WW White Rd</td>\n",
       "      <td>78220</td>\n",
       "      <td>San Antonio</td>\n",
       "      <td>TX</td>\n",
       "      <td>4</td>\n",
       "      <td>6</td>\n",
       "      <td>260.09</td>\n",
       "    </tr>\n",
       "  </tbody>\n",
       "</table>\n",
       "</div>"
      ],
      "text/plain": [
       "            item_id item_brand  \\\n",
       "sale_date                        \n",
       "2014-04-13       30    Petmate   \n",
       "\n",
       "                                                    item_name  item_price  \\\n",
       "sale_date                                                                   \n",
       "2014-04-13  Petmate Booda Bones Steak Bacon & Chicken Flav...        8.39   \n",
       "\n",
       "            sale_id  sale_amount  store_id       store_address  store_zipcode  \\\n",
       "sale_date                                                                       \n",
       "2014-04-13   539138           31         6  1015 S WW White Rd          78220   \n",
       "\n",
       "             store_city store_state  month  dayofweek  sales_total  \n",
       "sale_date                                                           \n",
       "2014-04-13  San Antonio          TX      4          6       260.09  "
      ]
     },
     "execution_count": 8,
     "metadata": {},
     "output_type": "execute_result"
    }
   ],
   "source": [
    "store['sales_total'] = store.sale_amount * store.item_price\n",
    "store.sample()"
   ]
  },
  {
   "cell_type": "markdown",
   "id": "dbe0fe08",
   "metadata": {},
   "source": [
    "---"
   ]
  },
  {
   "cell_type": "markdown",
   "id": "e73e5eb1",
   "metadata": {},
   "source": [
    "<a id='storeq6'></a>\n",
    "### 6. Make sure all the work that you have done above is reproducible. That is, you should put the code above into separate functions and be able to re-run the functions and get the same results.\n",
    "\n",
    "<li><a href='#TableOfContents'>Table of Contents</a></li>\n",
    "<li><a href='#store'>Store Set Top</a></li>"
   ]
  },
  {
   "cell_type": "code",
   "execution_count": 9,
   "id": "242b12ab",
   "metadata": {},
   "outputs": [
    {
     "data": {
      "text/html": [
       "<div>\n",
       "<style scoped>\n",
       "    .dataframe tbody tr th:only-of-type {\n",
       "        vertical-align: middle;\n",
       "    }\n",
       "\n",
       "    .dataframe tbody tr th {\n",
       "        vertical-align: top;\n",
       "    }\n",
       "\n",
       "    .dataframe thead th {\n",
       "        text-align: right;\n",
       "    }\n",
       "</style>\n",
       "<table border=\"1\" class=\"dataframe\">\n",
       "  <thead>\n",
       "    <tr style=\"text-align: right;\">\n",
       "      <th></th>\n",
       "      <th>item_id</th>\n",
       "      <th>item_brand</th>\n",
       "      <th>item_name</th>\n",
       "      <th>item_price</th>\n",
       "      <th>sale_id</th>\n",
       "      <th>sale_amount</th>\n",
       "      <th>store_id</th>\n",
       "      <th>store_address</th>\n",
       "      <th>store_zipcode</th>\n",
       "      <th>store_city</th>\n",
       "      <th>store_state</th>\n",
       "      <th>month</th>\n",
       "      <th>dayofweek</th>\n",
       "      <th>sales_total</th>\n",
       "    </tr>\n",
       "    <tr>\n",
       "      <th>sale_date</th>\n",
       "      <th></th>\n",
       "      <th></th>\n",
       "      <th></th>\n",
       "      <th></th>\n",
       "      <th></th>\n",
       "      <th></th>\n",
       "      <th></th>\n",
       "      <th></th>\n",
       "      <th></th>\n",
       "      <th></th>\n",
       "      <th></th>\n",
       "      <th></th>\n",
       "      <th></th>\n",
       "      <th></th>\n",
       "    </tr>\n",
       "  </thead>\n",
       "  <tbody>\n",
       "    <tr>\n",
       "      <th>2016-06-21</th>\n",
       "      <td>24</td>\n",
       "      <td>Smart Living</td>\n",
       "      <td>Smart Living Charcoal Lighter Fluid</td>\n",
       "      <td>5.34</td>\n",
       "      <td>423074</td>\n",
       "      <td>107</td>\n",
       "      <td>2</td>\n",
       "      <td>9255 FM 471 West</td>\n",
       "      <td>78251</td>\n",
       "      <td>San Antonio</td>\n",
       "      <td>TX</td>\n",
       "      <td>6</td>\n",
       "      <td>1</td>\n",
       "      <td>571.38</td>\n",
       "    </tr>\n",
       "  </tbody>\n",
       "</table>\n",
       "</div>"
      ],
      "text/plain": [
       "            item_id    item_brand                            item_name  \\\n",
       "sale_date                                                                \n",
       "2016-06-21       24  Smart Living  Smart Living Charcoal Lighter Fluid   \n",
       "\n",
       "            item_price  sale_id  sale_amount  store_id     store_address  \\\n",
       "sale_date                                                                  \n",
       "2016-06-21        5.34   423074          107         2  9255 FM 471 West   \n",
       "\n",
       "            store_zipcode   store_city store_state  month  dayofweek  \\\n",
       "sale_date                                                              \n",
       "2016-06-21          78251  San Antonio          TX      6          1   \n",
       "\n",
       "            sales_total  \n",
       "sale_date                \n",
       "2016-06-21       571.38  "
      ]
     },
     "execution_count": 9,
     "metadata": {},
     "output_type": "execute_result"
    }
   ],
   "source": [
    "pyfile_store = p.prepare_store()\n",
    "pyfile_store.sample()"
   ]
  },
  {
   "cell_type": "markdown",
   "id": "81c0be58",
   "metadata": {},
   "source": [
    "<div style='background-color: orange'>\n",
    "<a id='germany'></a>\n",
    "    <b><u><i><h1 style='text-align: center'>\n",
    "        Germany Set\n",
    "    </h1></i></u></b>\n",
    "<li><a href='#TableOfContents'>Table of Contents</a></li>\n",
    "<li><a href='#germanyq1'>Question 1</a></li>\n",
    "<li><a href='#germanyq2'>Question 2</a></li>\n",
    "<li><a href='#germanyq3'>Question 3</a></li>\n",
    "<li><a href='#germanyq4'>Question 4</a></li>\n",
    "<li><a href='#germanyq5'>Question 5</a></li>\n",
    "<li><a href='#germanyq6'>Question 6</a></li>"
   ]
  },
  {
   "cell_type": "markdown",
   "id": "933d12e9",
   "metadata": {},
   "source": [
    "Using the OPS data acquired in the Acquire exercises opsd_germany_daily.csv, complete the following:"
   ]
  },
  {
   "cell_type": "code",
   "execution_count": 10,
   "id": "59f99757",
   "metadata": {},
   "outputs": [
    {
     "data": {
      "text/html": [
       "<div>\n",
       "<style scoped>\n",
       "    .dataframe tbody tr th:only-of-type {\n",
       "        vertical-align: middle;\n",
       "    }\n",
       "\n",
       "    .dataframe tbody tr th {\n",
       "        vertical-align: top;\n",
       "    }\n",
       "\n",
       "    .dataframe thead th {\n",
       "        text-align: right;\n",
       "    }\n",
       "</style>\n",
       "<table border=\"1\" class=\"dataframe\">\n",
       "  <thead>\n",
       "    <tr style=\"text-align: right;\">\n",
       "      <th></th>\n",
       "      <th>Date</th>\n",
       "      <th>Consumption</th>\n",
       "      <th>Wind</th>\n",
       "      <th>Solar</th>\n",
       "      <th>Wind+Solar</th>\n",
       "    </tr>\n",
       "  </thead>\n",
       "  <tbody>\n",
       "    <tr>\n",
       "      <th>4108</th>\n",
       "      <td>2017-04-01</td>\n",
       "      <td>1186.056</td>\n",
       "      <td>82.512</td>\n",
       "      <td>144.801</td>\n",
       "      <td>227.313</td>\n",
       "    </tr>\n",
       "  </tbody>\n",
       "</table>\n",
       "</div>"
      ],
      "text/plain": [
       "            Date  Consumption    Wind    Solar  Wind+Solar\n",
       "4108  2017-04-01     1186.056  82.512  144.801     227.313"
      ]
     },
     "execution_count": 10,
     "metadata": {},
     "output_type": "execute_result"
    }
   ],
   "source": [
    "germany = pd.read_csv('germany.csv', index_col=0)\n",
    "germany.sample()"
   ]
  },
  {
   "cell_type": "code",
   "execution_count": 11,
   "id": "eb2195e7",
   "metadata": {},
   "outputs": [
    {
     "data": {
      "text/plain": [
       "Date            object\n",
       "Consumption    float64\n",
       "Wind           float64\n",
       "Solar          float64\n",
       "Wind+Solar     float64\n",
       "dtype: object"
      ]
     },
     "execution_count": 11,
     "metadata": {},
     "output_type": "execute_result"
    }
   ],
   "source": [
    "germany.dtypes"
   ]
  },
  {
   "cell_type": "markdown",
   "id": "bef8bc4d",
   "metadata": {},
   "source": [
    "---"
   ]
  },
  {
   "cell_type": "markdown",
   "id": "0e53e295",
   "metadata": {},
   "source": [
    "<a id='germanyq1'></a>\n",
    "### 1. Convert date column to datetime format.\n",
    "\n",
    "<li><a href='#TableOfContents'>Table of Contents</a></li>\n",
    "<li><a href='#germany'>Germany Set Top</a></li>"
   ]
  },
  {
   "cell_type": "code",
   "execution_count": 12,
   "id": "f4047f8a",
   "metadata": {},
   "outputs": [
    {
     "data": {
      "text/plain": [
       "Date           datetime64[ns]\n",
       "Consumption           float64\n",
       "Wind                  float64\n",
       "Solar                 float64\n",
       "Wind+Solar            float64\n",
       "dtype: object"
      ]
     },
     "execution_count": 12,
     "metadata": {},
     "output_type": "execute_result"
    }
   ],
   "source": [
    "germany.Date = pd.to_datetime(germany.Date)\n",
    "germany.dtypes"
   ]
  },
  {
   "cell_type": "markdown",
   "id": "c05d613a",
   "metadata": {},
   "source": [
    "---"
   ]
  },
  {
   "cell_type": "markdown",
   "id": "6d65caa9",
   "metadata": {},
   "source": [
    "<a id='germanyq2'></a>\n",
    "### 2. Plot the distribution of each of your variables.\n",
    "\n",
    "<li><a href='#TableOfContents'>Table of Contents</a></li>\n",
    "<li><a href='#germany'>Germany Set Top</a></li>"
   ]
  },
  {
   "cell_type": "code",
   "execution_count": 13,
   "id": "9fce056a",
   "metadata": {},
   "outputs": [
    {
     "data": {
      "image/png": "[encoded data removed]",
      "text/plain": [
       "<Figure size 640x480 with 1 Axes>"
      ]
     },
     "metadata": {},
     "output_type": "display_data"
    },
    {
     "data": {
      "image/png": "[encoded data removed]",
      "text/plain": [
       "<Figure size 640x480 with 1 Axes>"
      ]
     },
     "metadata": {},
     "output_type": "display_data"
    },
    {
     "data": {
      "image/png": "[encoded data removed]",
      "text/plain": [
       "<Figure size 640x480 with 1 Axes>"
      ]
     },
     "metadata": {},
     "output_type": "display_data"
    },
    {
     "data": {
      "image/png": "[encoded data removed]",
      "text/plain": [
       "<Figure size 640x480 with 1 Axes>"
      ]
     },
     "metadata": {},
     "output_type": "display_data"
    }
   ],
   "source": [
    "col_for_visuals = germany.drop(columns='Date').columns.to_list()\n",
    "for col in col_for_visuals:\n",
    "    with plt.style.context('bmh'):\n",
    "        sns.histplot(data=germany, x=col)\n",
    "        plt.title(f'Distribution of {col}')\n",
    "        plt.show()"
   ]
  },
  {
   "cell_type": "markdown",
   "id": "0e2cf98f",
   "metadata": {},
   "source": [
    "---"
   ]
  },
  {
   "cell_type": "markdown",
   "id": "881b5efc",
   "metadata": {},
   "source": [
    "<a id='germanyq3'></a>\n",
    "### 3. Set the index to be the datetime variable.\n",
    "\n",
    "<li><a href='#TableOfContents'>Table of Contents</a></li>\n",
    "<li><a href='#germany'>Germany Set Top</a></li>"
   ]
  },
  {
   "cell_type": "code",
   "execution_count": 14,
   "id": "415c0fd3",
   "metadata": {},
   "outputs": [
    {
     "data": {
      "text/html": [
       "<div>\n",
       "<style scoped>\n",
       "    .dataframe tbody tr th:only-of-type {\n",
       "        vertical-align: middle;\n",
       "    }\n",
       "\n",
       "    .dataframe tbody tr th {\n",
       "        vertical-align: top;\n",
       "    }\n",
       "\n",
       "    .dataframe thead th {\n",
       "        text-align: right;\n",
       "    }\n",
       "</style>\n",
       "<table border=\"1\" class=\"dataframe\">\n",
       "  <thead>\n",
       "    <tr style=\"text-align: right;\">\n",
       "      <th></th>\n",
       "      <th>Consumption</th>\n",
       "      <th>Wind</th>\n",
       "      <th>Solar</th>\n",
       "      <th>Wind+Solar</th>\n",
       "    </tr>\n",
       "    <tr>\n",
       "      <th>Date</th>\n",
       "      <th></th>\n",
       "      <th></th>\n",
       "      <th></th>\n",
       "      <th></th>\n",
       "    </tr>\n",
       "  </thead>\n",
       "  <tbody>\n",
       "    <tr>\n",
       "      <th>2010-04-28</th>\n",
       "      <td>1326.288</td>\n",
       "      <td>28.209</td>\n",
       "      <td>NaN</td>\n",
       "      <td>NaN</td>\n",
       "    </tr>\n",
       "  </tbody>\n",
       "</table>\n",
       "</div>"
      ],
      "text/plain": [
       "            Consumption    Wind  Solar  Wind+Solar\n",
       "Date                                              \n",
       "2010-04-28     1326.288  28.209    NaN         NaN"
      ]
     },
     "execution_count": 14,
     "metadata": {},
     "output_type": "execute_result"
    }
   ],
   "source": [
    "germany = germany.set_index(germany.Date)\n",
    "germany = germany.drop(columns='Date')\n",
    "germany.sample()"
   ]
  },
  {
   "cell_type": "markdown",
   "id": "3645323a",
   "metadata": {},
   "source": [
    "---"
   ]
  },
  {
   "cell_type": "markdown",
   "id": "8a93b060",
   "metadata": {},
   "source": [
    "<a id='germanyq4'></a>\n",
    "### 4. Add a month and a year column to your dataframe.\n",
    "\n",
    "<li><a href='#TableOfContents'>Table of Contents</a></li>\n",
    "<li><a href='#germany'>Germany Set Top</a></li>"
   ]
  },
  {
   "cell_type": "code",
   "execution_count": 15,
   "id": "b26bb74b",
   "metadata": {},
   "outputs": [
    {
     "data": {
      "text/html": [
       "<div>\n",
       "<style scoped>\n",
       "    .dataframe tbody tr th:only-of-type {\n",
       "        vertical-align: middle;\n",
       "    }\n",
       "\n",
       "    .dataframe tbody tr th {\n",
       "        vertical-align: top;\n",
       "    }\n",
       "\n",
       "    .dataframe thead th {\n",
       "        text-align: right;\n",
       "    }\n",
       "</style>\n",
       "<table border=\"1\" class=\"dataframe\">\n",
       "  <thead>\n",
       "    <tr style=\"text-align: right;\">\n",
       "      <th></th>\n",
       "      <th>Consumption</th>\n",
       "      <th>Wind</th>\n",
       "      <th>Solar</th>\n",
       "      <th>Wind+Solar</th>\n",
       "      <th>year</th>\n",
       "      <th>month</th>\n",
       "    </tr>\n",
       "    <tr>\n",
       "      <th>Date</th>\n",
       "      <th></th>\n",
       "      <th></th>\n",
       "      <th></th>\n",
       "      <th></th>\n",
       "      <th></th>\n",
       "      <th></th>\n",
       "    </tr>\n",
       "  </thead>\n",
       "  <tbody>\n",
       "    <tr>\n",
       "      <th>2014-03-07</th>\n",
       "      <td>1514.897</td>\n",
       "      <td>114.278</td>\n",
       "      <td>120.06</td>\n",
       "      <td>234.338</td>\n",
       "      <td>2014</td>\n",
       "      <td>3</td>\n",
       "    </tr>\n",
       "  </tbody>\n",
       "</table>\n",
       "</div>"
      ],
      "text/plain": [
       "            Consumption     Wind   Solar  Wind+Solar  year  month\n",
       "Date                                                             \n",
       "2014-03-07     1514.897  114.278  120.06     234.338  2014      3"
      ]
     },
     "execution_count": 15,
     "metadata": {},
     "output_type": "execute_result"
    }
   ],
   "source": [
    "germany['year'] = germany.index.year\n",
    "germany['month'] = germany.index.month\n",
    "germany.sample()"
   ]
  },
  {
   "cell_type": "markdown",
   "id": "e13974c4",
   "metadata": {},
   "source": [
    "---"
   ]
  },
  {
   "cell_type": "markdown",
   "id": "4e1e51c0",
   "metadata": {},
   "source": [
    "<a id='germanyq5'></a>\n",
    "### 5. Fill any missing values.\n",
    "\n",
    "<li><a href='#TableOfContents'>Table of Contents</a></li>\n",
    "<li><a href='#germany'>Germany Set Top</a></li>"
   ]
  },
  {
   "cell_type": "code",
   "execution_count": 16,
   "id": "34e8f85a",
   "metadata": {},
   "outputs": [
    {
     "data": {
      "text/plain": [
       "Consumption       0\n",
       "Wind           1463\n",
       "Solar          2195\n",
       "Wind+Solar     2196\n",
       "year              0\n",
       "month             0\n",
       "dtype: int64"
      ]
     },
     "execution_count": 16,
     "metadata": {},
     "output_type": "execute_result"
    }
   ],
   "source": [
    "# Prior to filling nulls\n",
    "germany.isna().sum()"
   ]
  },
  {
   "cell_type": "code",
   "execution_count": 17,
   "id": "3c000feb",
   "metadata": {},
   "outputs": [],
   "source": [
    "# Need to fill 'Wind', 'Solar', 'Wind+Solar'...\n",
    "germany.Wind = germany.Wind.fillna(round(germany.Wind.mean(), 3))\n",
    "germany.Solar = germany.Solar.fillna(round(germany.Solar.mean(), 3))\n",
    "germany['Wind+Solar'] = germany['Wind+Solar'].fillna(round(germany['Wind+Solar'].mean(), 3))"
   ]
  },
  {
   "cell_type": "code",
   "execution_count": 18,
   "id": "30229faf",
   "metadata": {},
   "outputs": [
    {
     "data": {
      "text/plain": [
       "Consumption    0\n",
       "Wind           0\n",
       "Solar          0\n",
       "Wind+Solar     0\n",
       "year           0\n",
       "month          0\n",
       "dtype: int64"
      ]
     },
     "execution_count": 18,
     "metadata": {},
     "output_type": "execute_result"
    }
   ],
   "source": [
    "# After filling nulls\n",
    "germany.isna().sum()"
   ]
  },
  {
   "cell_type": "markdown",
   "id": "7975d497",
   "metadata": {},
   "source": [
    "---"
   ]
  },
  {
   "cell_type": "markdown",
   "id": "01a23119",
   "metadata": {},
   "source": [
    "<a id='germanyq6'></a>\n",
    "### 6. Make sure all the work that you have done above is reproducible. That is, you should put the code above into separate functions and be able to re-run the functions and get the same results.\n",
    "\n",
    "<li><a href='#TableOfContents'>Table of Contents</a></li>\n",
    "<li><a href='#germany'>Germany Set Top</a></li>"
   ]
  },
  {
   "cell_type": "code",
   "execution_count": 19,
   "id": "a3d8d057",
   "metadata": {},
   "outputs": [
    {
     "data": {
      "text/html": [
       "<div>\n",
       "<style scoped>\n",
       "    .dataframe tbody tr th:only-of-type {\n",
       "        vertical-align: middle;\n",
       "    }\n",
       "\n",
       "    .dataframe tbody tr th {\n",
       "        vertical-align: top;\n",
       "    }\n",
       "\n",
       "    .dataframe thead th {\n",
       "        text-align: right;\n",
       "    }\n",
       "</style>\n",
       "<table border=\"1\" class=\"dataframe\">\n",
       "  <thead>\n",
       "    <tr style=\"text-align: right;\">\n",
       "      <th></th>\n",
       "      <th>Consumption</th>\n",
       "      <th>Wind</th>\n",
       "      <th>Solar</th>\n",
       "      <th>Wind+Solar</th>\n",
       "      <th>year</th>\n",
       "      <th>month</th>\n",
       "    </tr>\n",
       "    <tr>\n",
       "      <th>Date</th>\n",
       "      <th></th>\n",
       "      <th></th>\n",
       "      <th></th>\n",
       "      <th></th>\n",
       "      <th></th>\n",
       "      <th></th>\n",
       "    </tr>\n",
       "  </thead>\n",
       "  <tbody>\n",
       "    <tr>\n",
       "      <th>2006-12-12</th>\n",
       "      <td>1561.264</td>\n",
       "      <td>164.814</td>\n",
       "      <td>89.259</td>\n",
       "      <td>272.663</td>\n",
       "      <td>2006</td>\n",
       "      <td>12</td>\n",
       "    </tr>\n",
       "  </tbody>\n",
       "</table>\n",
       "</div>"
      ],
      "text/plain": [
       "            Consumption     Wind   Solar  Wind+Solar  year  month\n",
       "Date                                                             \n",
       "2006-12-12     1561.264  164.814  89.259     272.663  2006     12"
      ]
     },
     "execution_count": 19,
     "metadata": {},
     "output_type": "execute_result"
    }
   ],
   "source": [
    "# Verify columns\n",
    "pyfile_germany = p.prepare_germany()\n",
    "pyfile_germany.sample()"
   ]
  },
  {
   "cell_type": "code",
   "execution_count": 20,
   "id": "4b68d0a4",
   "metadata": {},
   "outputs": [
    {
     "data": {
      "text/plain": [
       "Consumption    0\n",
       "Wind           0\n",
       "Solar          0\n",
       "Wind+Solar     0\n",
       "year           0\n",
       "month          0\n",
       "dtype: int64"
      ]
     },
     "execution_count": 20,
     "metadata": {},
     "output_type": "execute_result"
    }
   ],
   "source": [
    "# Verify no nulls\n",
    "pyfile_germany.isna().sum()"
   ]
  },
  {
   "cell_type": "code",
   "execution_count": null,
   "id": "ac3df4db",
   "metadata": {},
   "outputs": [],
   "source": []
  }
 ],
 "metadata": {
  "kernelspec": {
   "display_name": "Python 3 (ipykernel)",
   "language": "python",
   "name": "python3"
  },
  "language_info": {
   "codemirror_mode": {
    "name": "ipython",
    "version": 3
   },
   "file_extension": ".py",
   "mimetype": "text/x-python",
   "name": "python",
   "nbconvert_exporter": "python",
   "pygments_lexer": "ipython3",
   "version": "3.9.13"
  }
 },
 "nbformat": 4,
 "nbformat_minor": 5
}
