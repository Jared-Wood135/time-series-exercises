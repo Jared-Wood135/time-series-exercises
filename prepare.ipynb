{
 "cells": [
  {
   "cell_type": "markdown",
   "id": "468f91d2",
   "metadata": {},
   "source": [
    "<div style=\"background-color: orange\">\n",
    "<a id='TableOfContents'></a>\n",
    "    <b><u><i><h1 style='text-align: center'>\n",
    "        Table of Contents\n",
    "    </h1></i></u></b>\n",
    "<li><a href='#imports'>Imports</a></li>\n",
    "<li><a href='#store'>Store Set</a></li>\n",
    "<li><a href='#germany'>Germany Set</a></li>"
   ]
  },
  {
   "cell_type": "markdown",
   "id": "d8c3fd19",
   "metadata": {},
   "source": [
    "<div style='background-color: orange'>\n",
    "<a id='imports'></a>\n",
    "    <b><u><i><h1 style='text-align: center'>\n",
    "        Imports\n",
    "    </h1></i></u></b>\n",
    "<li><a href='#TableOfContents'>Table of Contents</a></li>"
   ]
  },
  {
   "cell_type": "code",
   "execution_count": null,
   "id": "4ff916e3",
   "metadata": {},
   "outputs": [],
   "source": []
  },
  {
   "cell_type": "markdown",
   "id": "3ad4de6a",
   "metadata": {},
   "source": [
    "<div style='background-color: orange'>\n",
    "<a id='store'></a>\n",
    "    <b><u><i><h1 style='text-align: center'>\n",
    "        Store Set\n",
    "    </h1></i></u></b>\n",
    "<li><a href='#TableOfContents'>Table of Contents</a></li>\n",
    "<li><a href='#storeq1'>Question 1</a></li>\n",
    "<li><a href='#storeq2'>Question 2</a></li>\n",
    "<li><a href='#storeq3'>Question 3</a></li>\n",
    "<li><a href='#storeq4'>Question 4</a></li>\n",
    "<li><a href='#storeq5'>Question 5</a></li>\n",
    "<li><a href='#storeq6'>Question 6</a></li>"
   ]
  },
  {
   "cell_type": "markdown",
   "id": "86dff1e2",
   "metadata": {},
   "source": [
    "Using your store items data:"
   ]
  },
  {
   "cell_type": "markdown",
   "id": "a63a7fad",
   "metadata": {},
   "source": [
    "---"
   ]
  },
  {
   "cell_type": "markdown",
   "id": "ed0cd03d",
   "metadata": {},
   "source": [
    "<a id='storeq1'></a>\n",
    "### 1. Convert date column to datetime format.\n",
    "\n",
    "<li><a href='#TableOfContents'>Table of Contents</a></li>\n",
    "<li><a href='#store'>Store Set Top</a></li>"
   ]
  },
  {
   "cell_type": "code",
   "execution_count": null,
   "id": "1218f27e",
   "metadata": {},
   "outputs": [],
   "source": []
  },
  {
   "cell_type": "markdown",
   "id": "be40d678",
   "metadata": {},
   "source": [
    "---"
   ]
  },
  {
   "cell_type": "markdown",
   "id": "e6588131",
   "metadata": {},
   "source": [
    "<a id='storeq2'></a>\n",
    "### 2. Plot the distribution of sale_amount and item_price.\n",
    "\n",
    "<li><a href='#TableOfContents'>Table of Contents</a></li>\n",
    "<li><a href='#store'>Store Set Top</a></li>"
   ]
  },
  {
   "cell_type": "code",
   "execution_count": null,
   "id": "3074a0cf",
   "metadata": {},
   "outputs": [],
   "source": []
  },
  {
   "cell_type": "markdown",
   "id": "95cfd0ee",
   "metadata": {},
   "source": [
    "---"
   ]
  },
  {
   "cell_type": "markdown",
   "id": "6003c5d6",
   "metadata": {},
   "source": [
    "<a id='storeq3'></a>\n",
    "### 3. Set the index to be the datetime variable.\n",
    "\n",
    "<li><a href='#TableOfContents'>Table of Contents</a></li>\n",
    "<li><a href='#store'>Store Set Top</a></li>"
   ]
  },
  {
   "cell_type": "code",
   "execution_count": null,
   "id": "4be59688",
   "metadata": {},
   "outputs": [],
   "source": []
  },
  {
   "cell_type": "markdown",
   "id": "afd491df",
   "metadata": {},
   "source": [
    "---"
   ]
  },
  {
   "cell_type": "markdown",
   "id": "3e73646d",
   "metadata": {},
   "source": [
    "<a id='storeq4'></a>\n",
    "### 4. Add a 'month' and 'day of week' column to your dataframe.\n",
    "\n",
    "<li><a href='#TableOfContents'>Table of Contents</a></li>\n",
    "<li><a href='#store'>Store Set Top</a></li>"
   ]
  },
  {
   "cell_type": "code",
   "execution_count": null,
   "id": "958be523",
   "metadata": {},
   "outputs": [],
   "source": []
  },
  {
   "cell_type": "markdown",
   "id": "08ba9822",
   "metadata": {},
   "source": [
    "---"
   ]
  },
  {
   "cell_type": "markdown",
   "id": "4ad70294",
   "metadata": {},
   "source": [
    "<a id='storeq5'></a>\n",
    "### 5. Add a column to your dataframe, sales_total, which is a derived from sale_amount (total items) and item_price.\n",
    "\n",
    "<li><a href='#TableOfContents'>Table of Contents</a></li>\n",
    "<li><a href='#store'>Store Set Top</a></li>"
   ]
  },
  {
   "cell_type": "code",
   "execution_count": null,
   "id": "329573e4",
   "metadata": {},
   "outputs": [],
   "source": []
  },
  {
   "cell_type": "markdown",
   "id": "dbe0fe08",
   "metadata": {},
   "source": [
    "---"
   ]
  },
  {
   "cell_type": "markdown",
   "id": "e73e5eb1",
   "metadata": {},
   "source": [
    "<a id='storeq6'></a>\n",
    "### 6. Make sure all the work that you have done above is reproducible. That is, you should put the code above into separate functions and be able to re-run the functions and get the same results.\n",
    "\n",
    "<li><a href='#TableOfContents'>Table of Contents</a></li>\n",
    "<li><a href='#store'>Store Set Top</a></li>"
   ]
  },
  {
   "cell_type": "code",
   "execution_count": null,
   "id": "242b12ab",
   "metadata": {},
   "outputs": [],
   "source": []
  },
  {
   "cell_type": "markdown",
   "id": "81c0be58",
   "metadata": {},
   "source": [
    "<div style='background-color: orange'>\n",
    "<a id='germany'></a>\n",
    "    <b><u><i><h1 style='text-align: center'>\n",
    "        Germany Set\n",
    "    </h1></i></u></b>\n",
    "<li><a href='#TableOfContents'>Table of Contents</a></li>\n",
    "<li><a href='#germanyq1'>Question 1</a></li>\n",
    "<li><a href='#germanyq2'>Question 2</a></li>\n",
    "<li><a href='#germanyq3'>Question 3</a></li>\n",
    "<li><a href='#germanyq4'>Question 4</a></li>\n",
    "<li><a href='#germanyq5'>Question 5</a></li>\n",
    "<li><a href='#germanyq6'>Question 6</a></li>"
   ]
  },
  {
   "cell_type": "markdown",
   "id": "933d12e9",
   "metadata": {},
   "source": [
    "Using the OPS data acquired in the Acquire exercises opsd_germany_daily.csv, complete the following:"
   ]
  },
  {
   "cell_type": "markdown",
   "id": "bef8bc4d",
   "metadata": {},
   "source": [
    "---"
   ]
  },
  {
   "cell_type": "markdown",
   "id": "0e53e295",
   "metadata": {},
   "source": [
    "<a id='germanyq1'></a>\n",
    "### 1. Convert date column to datetime format.\n",
    "\n",
    "<li><a href='#TableOfContents'>Table of Contents</a></li>\n",
    "<li><a href='#germany'>Germany Set Top</a></li>"
   ]
  },
  {
   "cell_type": "code",
   "execution_count": null,
   "id": "f4047f8a",
   "metadata": {},
   "outputs": [],
   "source": []
  },
  {
   "cell_type": "markdown",
   "id": "c05d613a",
   "metadata": {},
   "source": [
    "---"
   ]
  },
  {
   "cell_type": "markdown",
   "id": "6d65caa9",
   "metadata": {},
   "source": [
    "<a id='germanyq2'></a>\n",
    "### 2. Plot the distribution of each of your variables.\n",
    "\n",
    "<li><a href='#TableOfContents'>Table of Contents</a></li>\n",
    "<li><a href='#germany'>Germany Set Top</a></li>"
   ]
  },
  {
   "cell_type": "code",
   "execution_count": null,
   "id": "9fce056a",
   "metadata": {},
   "outputs": [],
   "source": []
  },
  {
   "cell_type": "markdown",
   "id": "0e2cf98f",
   "metadata": {},
   "source": [
    "---"
   ]
  },
  {
   "cell_type": "markdown",
   "id": "881b5efc",
   "metadata": {},
   "source": [
    "<a id='germanyq3'></a>\n",
    "### 3. Set the index to be the datetime variable.\n",
    "\n",
    "<li><a href='#TableOfContents'>Table of Contents</a></li>\n",
    "<li><a href='#germany'>Germany Set Top</a></li>"
   ]
  },
  {
   "cell_type": "code",
   "execution_count": null,
   "id": "415c0fd3",
   "metadata": {},
   "outputs": [],
   "source": []
  },
  {
   "cell_type": "markdown",
   "id": "3645323a",
   "metadata": {},
   "source": [
    "---"
   ]
  },
  {
   "cell_type": "markdown",
   "id": "8a93b060",
   "metadata": {},
   "source": [
    "<a id='germanyq4'></a>\n",
    "### 4. Add a month and a year column to your dataframe.\n",
    "\n",
    "<li><a href='#TableOfContents'>Table of Contents</a></li>\n",
    "<li><a href='#germany'>Germany Set Top</a></li>"
   ]
  },
  {
   "cell_type": "code",
   "execution_count": null,
   "id": "b26bb74b",
   "metadata": {},
   "outputs": [],
   "source": []
  },
  {
   "cell_type": "markdown",
   "id": "e13974c4",
   "metadata": {},
   "source": [
    "---"
   ]
  },
  {
   "cell_type": "markdown",
   "id": "4e1e51c0",
   "metadata": {},
   "source": [
    "<a id='germanyq5'></a>\n",
    "### 5. Fill any missing values.\n",
    "\n",
    "<li><a href='#TableOfContents'>Table of Contents</a></li>\n",
    "<li><a href='#germany'>Germany Set Top</a></li>"
   ]
  },
  {
   "cell_type": "code",
   "execution_count": null,
   "id": "30229faf",
   "metadata": {},
   "outputs": [],
   "source": []
  },
  {
   "cell_type": "markdown",
   "id": "7975d497",
   "metadata": {},
   "source": [
    "---"
   ]
  },
  {
   "cell_type": "markdown",
   "id": "01a23119",
   "metadata": {},
   "source": [
    "<a id='germanyq6'></a>\n",
    "### 6. Make sure all the work that you have done above is reproducible. That is, you should put the code above into separate functions and be able to re-run the functions and get the same results.\n",
    "\n",
    "<li><a href='#TableOfContents'>Table of Contents</a></li>\n",
    "<li><a href='#germany'>Germany Set Top</a></li>"
   ]
  },
  {
   "cell_type": "code",
   "execution_count": null,
   "id": "a3d8d057",
   "metadata": {},
   "outputs": [],
   "source": []
  }
 ],
 "metadata": {
  "kernelspec": {
   "display_name": "Python 3 (ipykernel)",
   "language": "python",
   "name": "python3"
  },
  "language_info": {
   "codemirror_mode": {
    "name": "ipython",
    "version": 3
   },
   "file_extension": ".py",
   "mimetype": "text/x-python",
   "name": "python",
   "nbconvert_exporter": "python",
   "pygments_lexer": "ipython3",
   "version": "3.9.13"
  }
 },
 "nbformat": 4,
 "nbformat_minor": 5
}
