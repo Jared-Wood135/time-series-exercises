{
 "cells": [
  {
   "cell_type": "markdown",
   "id": "468f91d2",
   "metadata": {},
   "source": [
    "<div style=\"background-color: orange\">\n",
    "<a id='TableOfContents'></a>\n",
    "    <b><u><i><h1 style='text-align: center'>\n",
    "        Table of Contents\n",
    "    </h1></i></u></b>\n",
    "<li><a href='#imports'>Imports</a></li>\n",
    "<li><a href='#store'>Store Set</a></li>\n",
    "<li><a href='#germany'>Germany Set</a></li>"
   ]
  },
  {
   "cell_type": "markdown",
   "id": "d8c3fd19",
   "metadata": {},
   "source": [
    "<div style='background-color: orange'>\n",
    "<a id='imports'></a>\n",
    "    <b><u><i><h1 style='text-align: center'>\n",
    "        Imports\n",
    "    </h1></i></u></b>\n",
    "<li><a href='#TableOfContents'>Table of Contents</a></li>"
   ]
  },
  {
   "cell_type": "code",
   "execution_count": 1,
   "id": "4ff916e3",
   "metadata": {},
   "outputs": [],
   "source": [
    "# Vectorization and dataframing\n",
    "import numpy as np\n",
    "import pandas as pd\n",
    "\n",
    "# Visualizations\n",
    "import matplotlib.pyplot as plt\n",
    "import seaborn as sns\n",
    "\n",
    "# Datasets\n",
    "import vega_datasets as data\n",
    "\n",
    "# .py file\n",
    "import acquire as a\n",
    "import prepare as p"
   ]
  },
  {
   "cell_type": "markdown",
   "id": "3ad4de6a",
   "metadata": {},
   "source": [
    "<div style='background-color: orange'>\n",
    "<a id='store'></a>\n",
    "    <b><u><i><h1 style='text-align: center'>\n",
    "        Store Set\n",
    "    </h1></i></u></b>\n",
    "<li><a href='#TableOfContents'>Table of Contents</a></li>\n",
    "<li><a href='#storeq1'>Question 1</a></li>\n",
    "<li><a href='#storeq2'>Question 2</a></li>\n",
    "<li><a href='#storeq3'>Question 3</a></li>\n",
    "<li><a href='#storeq4'>Question 4</a></li>\n",
    "<li><a href='#storeq5'>Question 5</a></li>\n",
    "<li><a href='#storeq6'>Question 6</a></li>"
   ]
  },
  {
   "cell_type": "markdown",
   "id": "86dff1e2",
   "metadata": {},
   "source": [
    "Using your store items data:"
   ]
  },
  {
   "cell_type": "code",
   "execution_count": 2,
   "id": "bc7b735a",
   "metadata": {},
   "outputs": [
    {
     "data": {
      "text/html": [
       "<div>\n",
       "<style scoped>\n",
       "    .dataframe tbody tr th:only-of-type {\n",
       "        vertical-align: middle;\n",
       "    }\n",
       "\n",
       "    .dataframe tbody tr th {\n",
       "        vertical-align: top;\n",
       "    }\n",
       "\n",
       "    .dataframe thead th {\n",
       "        text-align: right;\n",
       "    }\n",
       "</style>\n",
       "<table border=\"1\" class=\"dataframe\">\n",
       "  <thead>\n",
       "    <tr style=\"text-align: right;\">\n",
       "      <th></th>\n",
       "      <th>item_id</th>\n",
       "      <th>item_brand</th>\n",
       "      <th>item_name</th>\n",
       "      <th>item_price</th>\n",
       "      <th>sale_id</th>\n",
       "      <th>sale_date</th>\n",
       "      <th>sale_amount</th>\n",
       "      <th>store_id</th>\n",
       "      <th>store_address</th>\n",
       "      <th>store_zipcode</th>\n",
       "      <th>store_city</th>\n",
       "      <th>store_state</th>\n",
       "    </tr>\n",
       "  </thead>\n",
       "  <tbody>\n",
       "    <tr>\n",
       "      <th>374426</th>\n",
       "      <td>21</td>\n",
       "      <td>Doctors Best</td>\n",
       "      <td>Doctors Best Best Curcumin C3 Complex 1000mg T...</td>\n",
       "      <td>8.09</td>\n",
       "      <td>374427</td>\n",
       "      <td>2013-04-07</td>\n",
       "      <td>45</td>\n",
       "      <td>6</td>\n",
       "      <td>1015 S WW White Rd</td>\n",
       "      <td>78220</td>\n",
       "      <td>San Antonio</td>\n",
       "      <td>TX</td>\n",
       "    </tr>\n",
       "  </tbody>\n",
       "</table>\n",
       "</div>"
      ],
      "text/plain": [
       "        item_id    item_brand  \\\n",
       "374426       21  Doctors Best   \n",
       "\n",
       "                                                item_name  item_price  \\\n",
       "374426  Doctors Best Best Curcumin C3 Complex 1000mg T...        8.09   \n",
       "\n",
       "        sale_id   sale_date  sale_amount  store_id       store_address  \\\n",
       "374426   374427  2013-04-07           45         6  1015 S WW White Rd   \n",
       "\n",
       "        store_zipcode   store_city store_state  \n",
       "374426          78220  San Antonio          TX  "
      ]
     },
     "execution_count": 2,
     "metadata": {},
     "output_type": "execute_result"
    }
   ],
   "source": [
    "store = a.acquire_store()\n",
    "store.sample()"
   ]
  },
  {
   "cell_type": "code",
   "execution_count": 3,
   "id": "68d47e25",
   "metadata": {},
   "outputs": [
    {
     "data": {
      "text/plain": [
       "(913000, 12)"
      ]
     },
     "execution_count": 3,
     "metadata": {},
     "output_type": "execute_result"
    }
   ],
   "source": [
    "store.shape"
   ]
  },
  {
   "cell_type": "markdown",
   "id": "a63a7fad",
   "metadata": {},
   "source": [
    "---"
   ]
  },
  {
   "cell_type": "markdown",
   "id": "ed0cd03d",
   "metadata": {},
   "source": [
    "<a id='storeq1'></a>\n",
    "### 1. Convert date column to datetime format.\n",
    "\n",
    "<li><a href='#TableOfContents'>Table of Contents</a></li>\n",
    "<li><a href='#store'>Store Set Top</a></li>"
   ]
  },
  {
   "cell_type": "code",
   "execution_count": 4,
   "id": "1218f27e",
   "metadata": {},
   "outputs": [
    {
     "data": {
      "text/plain": [
       "item_id                   int64\n",
       "item_brand               object\n",
       "item_name                object\n",
       "item_price              float64\n",
       "sale_id                   int64\n",
       "sale_date        datetime64[ns]\n",
       "sale_amount               int64\n",
       "store_id                  int64\n",
       "store_address            object\n",
       "store_zipcode             int64\n",
       "store_city               object\n",
       "store_state              object\n",
       "dtype: object"
      ]
     },
     "execution_count": 4,
     "metadata": {},
     "output_type": "execute_result"
    }
   ],
   "source": [
    "# Convert 'sale_date' column from object to datetime\n",
    "store.sale_date = pd.to_datetime(store.sale_date)\n",
    "store.dtypes"
   ]
  },
  {
   "cell_type": "markdown",
   "id": "be40d678",
   "metadata": {},
   "source": [
    "---"
   ]
  },
  {
   "cell_type": "markdown",
   "id": "e6588131",
   "metadata": {},
   "source": [
    "<a id='storeq2'></a>\n",
    "### 2. Plot the distribution of sale_amount and item_price.\n",
    "\n",
    "<li><a href='#TableOfContents'>Table of Contents</a></li>\n",
    "<li><a href='#store'>Store Set Top</a></li>"
   ]
  },
  {
   "cell_type": "code",
   "execution_count": 5,
   "id": "3074a0cf",
   "metadata": {},
   "outputs": [
    {
     "data": {
      "image/png": "[encoded data removed]",
      "text/plain": [
       "<Figure size 640x480 with 1 Axes>"
      ]
     },
     "metadata": {},
     "output_type": "display_data"
    },
    {
     "data": {
      "image/png": "[encoded data removed]",
      "text/plain": [
       "<Figure size 640x480 with 1 Axes>"
      ]
     },
     "metadata": {},
     "output_type": "display_data"
    }
   ],
   "source": [
    "with plt.style.context('bmh'):\n",
    "    sns.histplot(data=store, x='sale_amount')\n",
    "    plt.title('Distribution of sale_amount')\n",
    "    plt.show()\n",
    "    sns.histplot(data=store, x='item_price')\n",
    "    plt.title('Distribution of item_price')\n",
    "    plt.show()"
   ]
  },
  {
   "cell_type": "markdown",
   "id": "95cfd0ee",
   "metadata": {},
   "source": [
    "---"
   ]
  },
  {
   "cell_type": "markdown",
   "id": "6003c5d6",
   "metadata": {},
   "source": [
    "<a id='storeq3'></a>\n",
    "### 3. Set the index to be the datetime variable.\n",
    "\n",
    "<li><a href='#TableOfContents'>Table of Contents</a></li>\n",
    "<li><a href='#store'>Store Set Top</a></li>"
   ]
  },
  {
   "cell_type": "code",
   "execution_count": 6,
   "id": "4be59688",
   "metadata": {},
   "outputs": [
    {
     "data": {
      "text/html": [
       "<div>\n",
       "<style scoped>\n",
       "    .dataframe tbody tr th:only-of-type {\n",
       "        vertical-align: middle;\n",
       "    }\n",
       "\n",
       "    .dataframe tbody tr th {\n",
       "        vertical-align: top;\n",
       "    }\n",
       "\n",
       "    .dataframe thead th {\n",
       "        text-align: right;\n",
       "    }\n",
       "</style>\n",
       "<table border=\"1\" class=\"dataframe\">\n",
       "  <thead>\n",
       "    <tr style=\"text-align: right;\">\n",
       "      <th></th>\n",
       "      <th>item_id</th>\n",
       "      <th>item_brand</th>\n",
       "      <th>item_name</th>\n",
       "      <th>item_price</th>\n",
       "      <th>sale_id</th>\n",
       "      <th>sale_amount</th>\n",
       "      <th>store_id</th>\n",
       "      <th>store_address</th>\n",
       "      <th>store_zipcode</th>\n",
       "      <th>store_city</th>\n",
       "      <th>store_state</th>\n",
       "    </tr>\n",
       "    <tr>\n",
       "      <th>sale_date</th>\n",
       "      <th></th>\n",
       "      <th></th>\n",
       "      <th></th>\n",
       "      <th></th>\n",
       "      <th></th>\n",
       "      <th></th>\n",
       "      <th></th>\n",
       "      <th></th>\n",
       "      <th></th>\n",
       "      <th></th>\n",
       "      <th></th>\n",
       "    </tr>\n",
       "  </thead>\n",
       "  <tbody>\n",
       "    <tr>\n",
       "      <th>2013-07-09</th>\n",
       "      <td>36</td>\n",
       "      <td>Deerfields Gluten Free</td>\n",
       "      <td>Rice Bran Gluten Free Dinner Rolls Plain</td>\n",
       "      <td>7.95</td>\n",
       "      <td>650246</td>\n",
       "      <td>58</td>\n",
       "      <td>7</td>\n",
       "      <td>12018 Perrin Beitel Rd</td>\n",
       "      <td>78217</td>\n",
       "      <td>San Antonio</td>\n",
       "      <td>TX</td>\n",
       "    </tr>\n",
       "  </tbody>\n",
       "</table>\n",
       "</div>"
      ],
      "text/plain": [
       "            item_id              item_brand  \\\n",
       "sale_date                                     \n",
       "2013-07-09       36  Deerfields Gluten Free   \n",
       "\n",
       "                                           item_name  item_price  sale_id  \\\n",
       "sale_date                                                                   \n",
       "2013-07-09  Rice Bran Gluten Free Dinner Rolls Plain        7.95   650246   \n",
       "\n",
       "            sale_amount  store_id           store_address  store_zipcode  \\\n",
       "sale_date                                                                  \n",
       "2013-07-09           58         7  12018 Perrin Beitel Rd          78217   \n",
       "\n",
       "             store_city store_state  \n",
       "sale_date                            \n",
       "2013-07-09  San Antonio          TX  "
      ]
     },
     "execution_count": 6,
     "metadata": {},
     "output_type": "execute_result"
    }
   ],
   "source": [
    "store = store.set_index(store.sale_date)\n",
    "store = store.drop(columns='sale_date')\n",
    "store.sample()"
   ]
  },
  {
   "cell_type": "markdown",
   "id": "afd491df",
   "metadata": {},
   "source": [
    "---"
   ]
  },
  {
   "cell_type": "markdown",
   "id": "3e73646d",
   "metadata": {},
   "source": [
    "<a id='storeq4'></a>\n",
    "### 4. Add a 'month' and 'day of week' column to your dataframe.\n",
    "\n",
    "<li><a href='#TableOfContents'>Table of Contents</a></li>\n",
    "<li><a href='#store'>Store Set Top</a></li>"
   ]
  },
  {
   "cell_type": "code",
   "execution_count": 7,
   "id": "958be523",
   "metadata": {},
   "outputs": [
    {
     "data": {
      "text/html": [
       "<div>\n",
       "<style scoped>\n",
       "    .dataframe tbody tr th:only-of-type {\n",
       "        vertical-align: middle;\n",
       "    }\n",
       "\n",
       "    .dataframe tbody tr th {\n",
       "        vertical-align: top;\n",
       "    }\n",
       "\n",
       "    .dataframe thead th {\n",
       "        text-align: right;\n",
       "    }\n",
       "</style>\n",
       "<table border=\"1\" class=\"dataframe\">\n",
       "  <thead>\n",
       "    <tr style=\"text-align: right;\">\n",
       "      <th></th>\n",
       "      <th>item_id</th>\n",
       "      <th>item_brand</th>\n",
       "      <th>item_name</th>\n",
       "      <th>item_price</th>\n",
       "      <th>sale_id</th>\n",
       "      <th>sale_amount</th>\n",
       "      <th>store_id</th>\n",
       "      <th>store_address</th>\n",
       "      <th>store_zipcode</th>\n",
       "      <th>store_city</th>\n",
       "      <th>store_state</th>\n",
       "      <th>month</th>\n",
       "      <th>dayofweek</th>\n",
       "    </tr>\n",
       "    <tr>\n",
       "      <th>sale_date</th>\n",
       "      <th></th>\n",
       "      <th></th>\n",
       "      <th></th>\n",
       "      <th></th>\n",
       "      <th></th>\n",
       "      <th></th>\n",
       "      <th></th>\n",
       "      <th></th>\n",
       "      <th></th>\n",
       "      <th></th>\n",
       "      <th></th>\n",
       "      <th></th>\n",
       "      <th></th>\n",
       "    </tr>\n",
       "  </thead>\n",
       "  <tbody>\n",
       "    <tr>\n",
       "      <th>2017-02-19</th>\n",
       "      <td>21</td>\n",
       "      <td>Doctors Best</td>\n",
       "      <td>Doctors Best Best Curcumin C3 Complex 1000mg T...</td>\n",
       "      <td>8.09</td>\n",
       "      <td>381319</td>\n",
       "      <td>44</td>\n",
       "      <td>9</td>\n",
       "      <td>735 SW Military Dr</td>\n",
       "      <td>78221</td>\n",
       "      <td>San Antonio</td>\n",
       "      <td>TX</td>\n",
       "      <td>2</td>\n",
       "      <td>6</td>\n",
       "    </tr>\n",
       "  </tbody>\n",
       "</table>\n",
       "</div>"
      ],
      "text/plain": [
       "            item_id    item_brand  \\\n",
       "sale_date                           \n",
       "2017-02-19       21  Doctors Best   \n",
       "\n",
       "                                                    item_name  item_price  \\\n",
       "sale_date                                                                   \n",
       "2017-02-19  Doctors Best Best Curcumin C3 Complex 1000mg T...        8.09   \n",
       "\n",
       "            sale_id  sale_amount  store_id       store_address  store_zipcode  \\\n",
       "sale_date                                                                       \n",
       "2017-02-19   381319           44         9  735 SW Military Dr          78221   \n",
       "\n",
       "             store_city store_state  month  dayofweek  \n",
       "sale_date                                              \n",
       "2017-02-19  San Antonio          TX      2          6  "
      ]
     },
     "execution_count": 7,
     "metadata": {},
     "output_type": "execute_result"
    }
   ],
   "source": [
    "store['month'] = store.index.month\n",
    "store['dayofweek'] = store.index.dayofweek\n",
    "store.sample()"
   ]
  },
  {
   "cell_type": "markdown",
   "id": "08ba9822",
   "metadata": {},
   "source": [
    "---"
   ]
  },
  {
   "cell_type": "markdown",
   "id": "4ad70294",
   "metadata": {},
   "source": [
    "<a id='storeq5'></a>\n",
    "### 5. Add a column to your dataframe, sales_total, which is a derived from sale_amount (total items) and item_price.\n",
    "\n",
    "<li><a href='#TableOfContents'>Table of Contents</a></li>\n",
    "<li><a href='#store'>Store Set Top</a></li>"
   ]
  },
  {
   "cell_type": "code",
   "execution_count": 8,
   "id": "329573e4",
   "metadata": {},
   "outputs": [
    {
     "data": {
      "text/html": [
       "<div>\n",
       "<style scoped>\n",
       "    .dataframe tbody tr th:only-of-type {\n",
       "        vertical-align: middle;\n",
       "    }\n",
       "\n",
       "    .dataframe tbody tr th {\n",
       "        vertical-align: top;\n",
       "    }\n",
       "\n",
       "    .dataframe thead th {\n",
       "        text-align: right;\n",
       "    }\n",
       "</style>\n",
       "<table border=\"1\" class=\"dataframe\">\n",
       "  <thead>\n",
       "    <tr style=\"text-align: right;\">\n",
       "      <th></th>\n",
       "      <th>item_id</th>\n",
       "      <th>item_brand</th>\n",
       "      <th>item_name</th>\n",
       "      <th>item_price</th>\n",
       "      <th>sale_id</th>\n",
       "      <th>sale_amount</th>\n",
       "      <th>store_id</th>\n",
       "      <th>store_address</th>\n",
       "      <th>store_zipcode</th>\n",
       "      <th>store_city</th>\n",
       "      <th>store_state</th>\n",
       "      <th>month</th>\n",
       "      <th>dayofweek</th>\n",
       "      <th>sales_total</th>\n",
       "    </tr>\n",
       "    <tr>\n",
       "      <th>sale_date</th>\n",
       "      <th></th>\n",
       "      <th></th>\n",
       "      <th></th>\n",
       "      <th></th>\n",
       "      <th></th>\n",
       "      <th></th>\n",
       "      <th></th>\n",
       "      <th></th>\n",
       "      <th></th>\n",
       "      <th></th>\n",
       "      <th></th>\n",
       "      <th></th>\n",
       "      <th></th>\n",
       "      <th></th>\n",
       "    </tr>\n",
       "  </thead>\n",
       "  <tbody>\n",
       "    <tr>\n",
       "      <th>2014-08-10</th>\n",
       "      <td>24</td>\n",
       "      <td>Smart Living</td>\n",
       "      <td>Smart Living Charcoal Lighter Fluid</td>\n",
       "      <td>5.34</td>\n",
       "      <td>429697</td>\n",
       "      <td>64</td>\n",
       "      <td>6</td>\n",
       "      <td>1015 S WW White Rd</td>\n",
       "      <td>78220</td>\n",
       "      <td>San Antonio</td>\n",
       "      <td>TX</td>\n",
       "      <td>8</td>\n",
       "      <td>6</td>\n",
       "      <td>341.76</td>\n",
       "    </tr>\n",
       "  </tbody>\n",
       "</table>\n",
       "</div>"
      ],
      "text/plain": [
       "            item_id    item_brand                            item_name  \\\n",
       "sale_date                                                                \n",
       "2014-08-10       24  Smart Living  Smart Living Charcoal Lighter Fluid   \n",
       "\n",
       "            item_price  sale_id  sale_amount  store_id       store_address  \\\n",
       "sale_date                                                                    \n",
       "2014-08-10        5.34   429697           64         6  1015 S WW White Rd   \n",
       "\n",
       "            store_zipcode   store_city store_state  month  dayofweek  \\\n",
       "sale_date                                                              \n",
       "2014-08-10          78220  San Antonio          TX      8          6   \n",
       "\n",
       "            sales_total  \n",
       "sale_date                \n",
       "2014-08-10       341.76  "
      ]
     },
     "execution_count": 8,
     "metadata": {},
     "output_type": "execute_result"
    }
   ],
   "source": [
    "store['sales_total'] = store.sale_amount * store.item_price\n",
    "store.sample()"
   ]
  },
  {
   "cell_type": "markdown",
   "id": "dbe0fe08",
   "metadata": {},
   "source": [
    "---"
   ]
  },
  {
   "cell_type": "markdown",
   "id": "e73e5eb1",
   "metadata": {},
   "source": [
    "<a id='storeq6'></a>\n",
    "### 6. Make sure all the work that you have done above is reproducible. That is, you should put the code above into separate functions and be able to re-run the functions and get the same results.\n",
    "\n",
    "<li><a href='#TableOfContents'>Table of Contents</a></li>\n",
    "<li><a href='#store'>Store Set Top</a></li>"
   ]
  },
  {
   "cell_type": "code",
   "execution_count": 9,
   "id": "242b12ab",
   "metadata": {},
   "outputs": [
    {
     "data": {
      "text/html": [
       "<div>\n",
       "<style scoped>\n",
       "    .dataframe tbody tr th:only-of-type {\n",
       "        vertical-align: middle;\n",
       "    }\n",
       "\n",
       "    .dataframe tbody tr th {\n",
       "        vertical-align: top;\n",
       "    }\n",
       "\n",
       "    .dataframe thead th {\n",
       "        text-align: right;\n",
       "    }\n",
       "</style>\n",
       "<table border=\"1\" class=\"dataframe\">\n",
       "  <thead>\n",
       "    <tr style=\"text-align: right;\">\n",
       "      <th></th>\n",
       "      <th>item_id</th>\n",
       "      <th>item_brand</th>\n",
       "      <th>item_name</th>\n",
       "      <th>item_price</th>\n",
       "      <th>sale_id</th>\n",
       "      <th>sale_amount</th>\n",
       "      <th>store_id</th>\n",
       "      <th>store_address</th>\n",
       "      <th>store_zipcode</th>\n",
       "      <th>store_city</th>\n",
       "      <th>store_state</th>\n",
       "      <th>month</th>\n",
       "      <th>dayofweek</th>\n",
       "      <th>sales_total</th>\n",
       "    </tr>\n",
       "    <tr>\n",
       "      <th>sale_date</th>\n",
       "      <th></th>\n",
       "      <th></th>\n",
       "      <th></th>\n",
       "      <th></th>\n",
       "      <th></th>\n",
       "      <th></th>\n",
       "      <th></th>\n",
       "      <th></th>\n",
       "      <th></th>\n",
       "      <th></th>\n",
       "      <th></th>\n",
       "      <th></th>\n",
       "      <th></th>\n",
       "      <th></th>\n",
       "    </tr>\n",
       "  </thead>\n",
       "  <tbody>\n",
       "    <tr>\n",
       "      <th>2016-12-11</th>\n",
       "      <td>46</td>\n",
       "      <td>Mama Marys</td>\n",
       "      <td>Pizza Sauce</td>\n",
       "      <td>4.65</td>\n",
       "      <td>832271</td>\n",
       "      <td>35</td>\n",
       "      <td>6</td>\n",
       "      <td>1015 S WW White Rd</td>\n",
       "      <td>78220</td>\n",
       "      <td>San Antonio</td>\n",
       "      <td>TX</td>\n",
       "      <td>12</td>\n",
       "      <td>6</td>\n",
       "      <td>162.75</td>\n",
       "    </tr>\n",
       "  </tbody>\n",
       "</table>\n",
       "</div>"
      ],
      "text/plain": [
       "            item_id  item_brand    item_name  item_price  sale_id  \\\n",
       "sale_date                                                           \n",
       "2016-12-11       46  Mama Marys  Pizza Sauce        4.65   832271   \n",
       "\n",
       "            sale_amount  store_id       store_address  store_zipcode  \\\n",
       "sale_date                                                              \n",
       "2016-12-11           35         6  1015 S WW White Rd          78220   \n",
       "\n",
       "             store_city store_state  month  dayofweek  sales_total  \n",
       "sale_date                                                           \n",
       "2016-12-11  San Antonio          TX     12          6       162.75  "
      ]
     },
     "execution_count": 9,
     "metadata": {},
     "output_type": "execute_result"
    }
   ],
   "source": [
    "pyfile_store = p.prepare_store()\n",
    "pyfile_store.sample()"
   ]
  },
  {
   "cell_type": "markdown",
   "id": "81c0be58",
   "metadata": {},
   "source": [
    "<div style='background-color: orange'>\n",
    "<a id='germany'></a>\n",
    "    <b><u><i><h1 style='text-align: center'>\n",
    "        Germany Set\n",
    "    </h1></i></u></b>\n",
    "<li><a href='#TableOfContents'>Table of Contents</a></li>\n",
    "<li><a href='#germanyq1'>Question 1</a></li>\n",
    "<li><a href='#germanyq2'>Question 2</a></li>\n",
    "<li><a href='#germanyq3'>Question 3</a></li>\n",
    "<li><a href='#germanyq4'>Question 4</a></li>\n",
    "<li><a href='#germanyq5'>Question 5</a></li>\n",
    "<li><a href='#germanyq6'>Question 6</a></li>"
   ]
  },
  {
   "cell_type": "markdown",
   "id": "933d12e9",
   "metadata": {},
   "source": [
    "Using the OPS data acquired in the Acquire exercises opsd_germany_daily.csv, complete the following:"
   ]
  },
  {
   "cell_type": "markdown",
   "id": "bef8bc4d",
   "metadata": {},
   "source": [
    "---"
   ]
  },
  {
   "cell_type": "markdown",
   "id": "0e53e295",
   "metadata": {},
   "source": [
    "<a id='germanyq1'></a>\n",
    "### 1. Convert date column to datetime format.\n",
    "\n",
    "<li><a href='#TableOfContents'>Table of Contents</a></li>\n",
    "<li><a href='#germany'>Germany Set Top</a></li>"
   ]
  },
  {
   "cell_type": "code",
   "execution_count": null,
   "id": "f4047f8a",
   "metadata": {},
   "outputs": [],
   "source": []
  },
  {
   "cell_type": "markdown",
   "id": "c05d613a",
   "metadata": {},
   "source": [
    "---"
   ]
  },
  {
   "cell_type": "markdown",
   "id": "6d65caa9",
   "metadata": {},
   "source": [
    "<a id='germanyq2'></a>\n",
    "### 2. Plot the distribution of each of your variables.\n",
    "\n",
    "<li><a href='#TableOfContents'>Table of Contents</a></li>\n",
    "<li><a href='#germany'>Germany Set Top</a></li>"
   ]
  },
  {
   "cell_type": "code",
   "execution_count": null,
   "id": "9fce056a",
   "metadata": {},
   "outputs": [],
   "source": []
  },
  {
   "cell_type": "markdown",
   "id": "0e2cf98f",
   "metadata": {},
   "source": [
    "---"
   ]
  },
  {
   "cell_type": "markdown",
   "id": "881b5efc",
   "metadata": {},
   "source": [
    "<a id='germanyq3'></a>\n",
    "### 3. Set the index to be the datetime variable.\n",
    "\n",
    "<li><a href='#TableOfContents'>Table of Contents</a></li>\n",
    "<li><a href='#germany'>Germany Set Top</a></li>"
   ]
  },
  {
   "cell_type": "code",
   "execution_count": null,
   "id": "415c0fd3",
   "metadata": {},
   "outputs": [],
   "source": []
  },
  {
   "cell_type": "markdown",
   "id": "3645323a",
   "metadata": {},
   "source": [
    "---"
   ]
  },
  {
   "cell_type": "markdown",
   "id": "8a93b060",
   "metadata": {},
   "source": [
    "<a id='germanyq4'></a>\n",
    "### 4. Add a month and a year column to your dataframe.\n",
    "\n",
    "<li><a href='#TableOfContents'>Table of Contents</a></li>\n",
    "<li><a href='#germany'>Germany Set Top</a></li>"
   ]
  },
  {
   "cell_type": "code",
   "execution_count": null,
   "id": "b26bb74b",
   "metadata": {},
   "outputs": [],
   "source": []
  },
  {
   "cell_type": "markdown",
   "id": "e13974c4",
   "metadata": {},
   "source": [
    "---"
   ]
  },
  {
   "cell_type": "markdown",
   "id": "4e1e51c0",
   "metadata": {},
   "source": [
    "<a id='germanyq5'></a>\n",
    "### 5. Fill any missing values.\n",
    "\n",
    "<li><a href='#TableOfContents'>Table of Contents</a></li>\n",
    "<li><a href='#germany'>Germany Set Top</a></li>"
   ]
  },
  {
   "cell_type": "code",
   "execution_count": null,
   "id": "30229faf",
   "metadata": {},
   "outputs": [],
   "source": []
  },
  {
   "cell_type": "markdown",
   "id": "7975d497",
   "metadata": {},
   "source": [
    "---"
   ]
  },
  {
   "cell_type": "markdown",
   "id": "01a23119",
   "metadata": {},
   "source": [
    "<a id='germanyq6'></a>\n",
    "### 6. Make sure all the work that you have done above is reproducible. That is, you should put the code above into separate functions and be able to re-run the functions and get the same results.\n",
    "\n",
    "<li><a href='#TableOfContents'>Table of Contents</a></li>\n",
    "<li><a href='#germany'>Germany Set Top</a></li>"
   ]
  },
  {
   "cell_type": "code",
   "execution_count": null,
   "id": "a3d8d057",
   "metadata": {},
   "outputs": [],
   "source": []
  }
 ],
 "metadata": {
  "kernelspec": {
   "display_name": "Python 3 (ipykernel)",
   "language": "python",
   "name": "python3"
  },
  "language_info": {
   "codemirror_mode": {
    "name": "ipython",
    "version": 3
   },
   "file_extension": ".py",
   "mimetype": "text/x-python",
   "name": "python",
   "nbconvert_exporter": "python",
   "pygments_lexer": "ipython3",
   "version": "3.9.13"
  }
 },
 "nbformat": 4,
 "nbformat_minor": 5
}
