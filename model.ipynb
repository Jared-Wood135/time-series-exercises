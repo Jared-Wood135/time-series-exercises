{
 "cells": [
  {
   "cell_type": "markdown",
   "id": "468f91d2",
   "metadata": {},
   "source": [
    "<div style=\"background-color: orange\">\n",
    "<a id='TableOfContents'></a>\n",
    "    <b><u><i><h1 style='text-align: center'>\n",
    "        Table of Contents\n",
    "    </h1></i></u></b>\n",
    "<li><a href='#imports'>Imports</a></li>\n",
    "<li><a href='#req'>SAAS Set</a></li>\n",
    "<li><a href='#bonus'>Bonus Set</a></li>"
   ]
  },
  {
   "cell_type": "markdown",
   "id": "d8c3fd19",
   "metadata": {},
   "source": [
    "<div style='background-color: orange'>\n",
    "<a id='imports'></a>\n",
    "    <b><u><i><h1 style='text-align: center'>\n",
    "        Imports\n",
    "    </h1></i></u></b>\n",
    "<li><a href='#TableOfContents'>Table of Contents</a></li>"
   ]
  },
  {
   "cell_type": "code",
   "execution_count": null,
   "id": "4ff916e3",
   "metadata": {},
   "outputs": [],
   "source": []
  },
  {
   "cell_type": "markdown",
   "id": "3ad4de6a",
   "metadata": {},
   "source": [
    "<div style='background-color: orange'>\n",
    "<a id='req'></a>\n",
    "    <b><u><i><h1 style='text-align: center'>\n",
    "        Required Set\n",
    "    </h1></i></u></b>\n",
    "<li><a href='#TableOfContents'>Table of Contents</a></li>\n",
    "<li><a href='#req1'>Question 1</a></li>\n",
    "<li><a href='#req2'>Question 2</a></li>"
   ]
  },
  {
   "cell_type": "markdown",
   "id": "2db4a9e1",
   "metadata": {},
   "source": [
    "Use the <a href='https://ds.codeup.com/saas.csv'>SAAS dataset</a>:"
   ]
  },
  {
   "cell_type": "markdown",
   "id": "bb67c8f0",
   "metadata": {},
   "source": [
    "---"
   ]
  },
  {
   "cell_type": "markdown",
   "id": "92db5844",
   "metadata": {},
   "source": [
    "<a id='req1'></a>\n",
    "### 1. Split data (train/validate/test) and resample by any period except daily. Aggregate using the sum.\n",
    "\n",
    "<li><a href='#TableOfContents'>Table of Contents</a></li>\n",
    "<li><a href='#req'>Required Set Top</a></li>"
   ]
  },
  {
   "cell_type": "code",
   "execution_count": null,
   "id": "fbce76e4",
   "metadata": {},
   "outputs": [],
   "source": []
  },
  {
   "cell_type": "markdown",
   "id": "9a26556f",
   "metadata": {},
   "source": [
    "---"
   ]
  },
  {
   "cell_type": "markdown",
   "id": "ffc1173d",
   "metadata": {},
   "source": [
    "<a id='req2'></a>\n",
    "### 2. Forecast, plot and evaluate using each of the 4 parametric based methods we discussed:\n",
    "- Simple Average\n",
    "- Moving Average\n",
    "- Holt's Linear Trend Model\n",
    "- Based on previous year/month/etc., this is up to you\n",
    "\n",
    "<li><a href='#TableOfContents'>Table of Contents</a></li>\n",
    "<li><a href='#req'>Required Set Top</a></li>"
   ]
  },
  {
   "cell_type": "code",
   "execution_count": null,
   "id": "c00bada1",
   "metadata": {},
   "outputs": [],
   "source": []
  },
  {
   "cell_type": "markdown",
   "id": "81c0be58",
   "metadata": {},
   "source": [
    "<div style='background-color: orange'>\n",
    "<a id='bonus'></a>\n",
    "    <b><u><i><h1 style='text-align: center'>\n",
    "        Bonus Set\n",
    "    </h1></i></u></b>\n",
    "<li><a href='#TableOfContents'>Table of Contents</a></li>\n",
    "<li><a href='#bonusq1'>Question 1</a></li>\n",
    "<li><a href='#bonusq2'>Question 2</a></li>\n",
    "<li><a href='#bonusq3'>Question 3</a></li>"
   ]
  },
  {
   "cell_type": "markdown",
   "id": "3f48b5aa",
   "metadata": {},
   "source": [
    "Using the store data:"
   ]
  },
  {
   "cell_type": "markdown",
   "id": "9538102e",
   "metadata": {},
   "source": [
    "---"
   ]
  },
  {
   "cell_type": "markdown",
   "id": "6b7278f8",
   "metadata": {},
   "source": [
    "<a id='bonusq1'></a>\n",
    "### 1. Predict 2018 total monthly sales for a single store and/or item by creating a model.\n",
    "\n",
    "<li><a href='#TableOfContents'>Table of Contents</a></li>\n",
    "<li><a href='#bonus'>Bonus Set Top</a></li>"
   ]
  },
  {
   "cell_type": "code",
   "execution_count": null,
   "id": "05bb709d",
   "metadata": {},
   "outputs": [],
   "source": []
  },
  {
   "cell_type": "markdown",
   "id": "cc2c8494",
   "metadata": {},
   "source": [
    "---"
   ]
  },
  {
   "cell_type": "markdown",
   "id": "538eb040",
   "metadata": {},
   "source": [
    "<a id='bonusq2'></a>\n",
    "### 2. Return a dataframe with the month, store_id, y-hat, and the confidence intervals (y-hat lower, y-hat upper). The upper and lower bounds of the predictions are auto generated when using the facebook prophet model, or you could calculate your own using, for example, <a href='https://ds.codeup.com/anomaly-detection/time-series-anomaly-detector/#bollinger-bands-and-b'>bollinger bands</a>.\n",
    "\n",
    "<li><a href='#TableOfContents'>Table of Contents</a></li>\n",
    "<li><a href='#bonus'>Bonus Set Top</a></li>"
   ]
  },
  {
   "cell_type": "code",
   "execution_count": null,
   "id": "d00c0b56",
   "metadata": {},
   "outputs": [],
   "source": []
  },
  {
   "cell_type": "markdown",
   "id": "95b6f62f",
   "metadata": {},
   "source": [
    "---"
   ]
  },
  {
   "cell_type": "markdown",
   "id": "d328e736",
   "metadata": {},
   "source": [
    "<a id='bonusq3'></a>\n",
    "### 3. Plot the 2018 monthly sales predictions.\n",
    "\n",
    "<li><a href='#TableOfContents'>Table of Contents</a></li>\n",
    "<li><a href='#bonus'>Bonus Set Top</a></li>"
   ]
  },
  {
   "cell_type": "code",
   "execution_count": null,
   "id": "54d5ed92",
   "metadata": {},
   "outputs": [],
   "source": []
  }
 ],
 "metadata": {
  "kernelspec": {
   "display_name": "Python 3 (ipykernel)",
   "language": "python",
   "name": "python3"
  },
  "language_info": {
   "codemirror_mode": {
    "name": "ipython",
    "version": 3
   },
   "file_extension": ".py",
   "mimetype": "text/x-python",
   "name": "python",
   "nbconvert_exporter": "python",
   "pygments_lexer": "ipython3",
   "version": "3.9.13"
  }
 },
 "nbformat": 4,
 "nbformat_minor": 5
}
