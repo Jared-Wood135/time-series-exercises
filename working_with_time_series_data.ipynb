{
 "cells": [
  {
   "cell_type": "markdown",
   "id": "70f6da13",
   "metadata": {},
   "source": [
    "<div style='background-color: orange'>\n",
    "<a id='TableOfContents'></a>\n",
    "    <b><u><i><h1 style='text-align: center'>\n",
    "        Table of Contents\n",
    "    </h1></i></u></b>\n",
    "<li><a href='#imports'>Imports</a></li>\n",
    "<li><a href='#initial'>Initial Guidance</a></li>\n",
    "<li><a href='#set1'>'data.sf_temps()' Set</a></li>\n",
    "<li><a href='#set2'>'data.seattle_weather()' Set</a></li>\n",
    "<li><a href='#set3'>'data.flights_20k()' Set</a></li>\n",
    "<li><a href='#bonusset1'>'data.iowa_electricity()' Bonus Set</a></li>\n",
    "<li><a href='#bonusset2'>'data.sf_temps()' Bonus Set</a></li>\n",
    "<li><a href='#bonusset3'>'data.birdstrikes()' Bonus Set</a></li>"
   ]
  },
  {
   "cell_type": "markdown",
   "id": "5f7f515b",
   "metadata": {},
   "source": [
    "<div style='background-color: orange'>\n",
    "<a id='imports'></a>\n",
    "    <b><u><i><h1 style='text-align: center'>\n",
    "        Imports\n",
    "    </h1></i></u></b>\n",
    "<li><a href='#TableOfContents'>Table of Contents</a></li>"
   ]
  },
  {
   "cell_type": "code",
   "execution_count": null,
   "id": "88eb96a5",
   "metadata": {},
   "outputs": [],
   "source": []
  },
  {
   "cell_type": "markdown",
   "id": "1eace66f",
   "metadata": {},
   "source": [
    "<div style='background-color: orange'>\n",
    "<a id='initial'></a>\n",
    "    <b><u><i><h1 style='text-align: center'>\n",
    "        Initial Guidance\n",
    "    </h1></i></u></b>\n",
    "<li><a href='#TableOfContents'>Table of Contents</a></li>"
   ]
  },
  {
   "cell_type": "markdown",
   "id": "1384fdd3",
   "metadata": {},
   "source": [
    "For all of the datasets below, examine the data types of each column, ensure that the dates are in the proper format, and set the dataframe's index to the date column as appropriate.\n",
    "\n",
    "For this exercise you'll need to install a library that will provide us access to some more datasets:\n",
    "\n",
    "pip install vega_datasets\n",
    "\n",
    "You can ust this library like so:\n",
    "\n",
    "from vega_datasets import data"
   ]
  },
  {
   "cell_type": "markdown",
   "id": "f1bc7247",
   "metadata": {},
   "source": [
    "<div style='background-color: orange'>\n",
    "<a id='set1'></a>\n",
    "    <b><u><i><h1 style='text-align: center'>\n",
    "        'data.sf_temps()' Set\n",
    "    </h1></i></u></b>\n",
    "<li><a href='#TableOfContents'>Table of Contents</a></li>\n",
    "<li><a href='#set1q1'>Question 1</a></li>\n",
    "<li><a href='#set1q2'>Question 2</a></li>\n",
    "<li><a href='#set1q3'>Question 3</a></li>\n",
    "<li><a href='#set1q4'>Question 4</a></li>\n",
    "<li><a href='#set1q5'>Question 5</a></li>\n",
    "<li><a href='#set1q6'>Question 6</a></li>\n",
    "<li><a href='#set1q7'>Bonus Question 7</a></li>"
   ]
  },
  {
   "cell_type": "markdown",
   "id": "61804b84",
   "metadata": {},
   "source": [
    "Call the sf_temps() dataset from the vega_datasets library like so:\n",
    "\n",
    "data.sf_temps()\n",
    "\n",
    "Use the above dataset for the following exercises:"
   ]
  },
  {
   "cell_type": "markdown",
   "id": "8aa994d7",
   "metadata": {},
   "source": [
    "---"
   ]
  },
  {
   "cell_type": "markdown",
   "id": "6b42e177",
   "metadata": {},
   "source": [
    "<a id='set1q1'></a>\n",
    "### 1. Resample by the day and take the average temperature. Visualize the average temperature over time.\n",
    "\n",
    "<li><a href='#TableOfContents'>Table of Contents</a></li>\n",
    "<li><a href='#set1'>'data.sf_temps()' Set Top</a></li>"
   ]
  },
  {
   "cell_type": "code",
   "execution_count": null,
   "id": "6ecde0fa",
   "metadata": {},
   "outputs": [],
   "source": []
  },
  {
   "cell_type": "markdown",
   "id": "30832fe2",
   "metadata": {},
   "source": [
    "---"
   ]
  },
  {
   "cell_type": "markdown",
   "id": "1af3e5cf",
   "metadata": {},
   "source": [
    "<a id='set1q2'></a>\n",
    "### 2. Write the code necessary to visualize the minimum temperature over time.\n",
    "\n",
    "<li><a href='#TableOfContents'>Table of Contents</a></li>\n",
    "<li><a href='#set1'>'data.sf_temps()' Set Top</a></li>"
   ]
  },
  {
   "cell_type": "code",
   "execution_count": null,
   "id": "fa7da837",
   "metadata": {},
   "outputs": [],
   "source": []
  },
  {
   "cell_type": "markdown",
   "id": "e383bca6",
   "metadata": {},
   "source": [
    "---"
   ]
  },
  {
   "cell_type": "markdown",
   "id": "caa55751",
   "metadata": {},
   "source": [
    "<a id='set1q3'></a>\n",
    "### 3. Write the code necessary to visualize the maximum temperature over time.\n",
    "\n",
    "<li><a href='#TableOfContents'>Table of Contents</a></li>\n",
    "<li><a href='#set1'>'data.sf_temps()' Set Top</a></li>"
   ]
  },
  {
   "cell_type": "code",
   "execution_count": null,
   "id": "5fe74b5f",
   "metadata": {},
   "outputs": [],
   "source": []
  },
  {
   "cell_type": "markdown",
   "id": "2f8322f5",
   "metadata": {},
   "source": [
    "---"
   ]
  },
  {
   "cell_type": "markdown",
   "id": "27e75380",
   "metadata": {},
   "source": [
    "<a id='set1q4'></a>\n",
    "### 4. Which month is the coldest, on average?\n",
    "\n",
    "<li><a href='#TableOfContents'>Table of Contents</a></li>\n",
    "<li><a href='#set1'>'data.sf_temps()' Set Top</a></li>"
   ]
  },
  {
   "cell_type": "code",
   "execution_count": null,
   "id": "b0544a28",
   "metadata": {},
   "outputs": [],
   "source": []
  },
  {
   "cell_type": "markdown",
   "id": "2fc21023",
   "metadata": {},
   "source": [
    "---"
   ]
  },
  {
   "cell_type": "markdown",
   "id": "778e292d",
   "metadata": {},
   "source": [
    "<a id='set1q5'></a>\n",
    "### 5. Which month has the highest average temperature?\n",
    "\n",
    "<li><a href='#TableOfContents'>Table of Contents</a></li>\n",
    "<li><a href='#set1'>'data.sf_temps()' Set Top</a></li>"
   ]
  },
  {
   "cell_type": "code",
   "execution_count": null,
   "id": "0c0fa42c",
   "metadata": {},
   "outputs": [],
   "source": []
  },
  {
   "cell_type": "markdown",
   "id": "be8ac85b",
   "metadata": {},
   "source": [
    "---"
   ]
  },
  {
   "cell_type": "markdown",
   "id": "4cdd1fce",
   "metadata": {},
   "source": [
    "<a id='set1q6'></a>\n",
    "### 6. Resample by the day and calculate the min and max temp for the day (Hint: .agg(['min', 'max'])). Use this resampled dataframe to calculate the change in temperature for the day. Which month has the highest daily temperature variability?\n",
    "\n",
    "<li><a href='#TableOfContents'>Table of Contents</a></li>\n",
    "<li><a href='#set1'>'data.sf_temps()' Set Top</a></li>"
   ]
  },
  {
   "cell_type": "code",
   "execution_count": null,
   "id": "b0921c63",
   "metadata": {},
   "outputs": [],
   "source": []
  },
  {
   "cell_type": "markdown",
   "id": "e3896c6f",
   "metadata": {},
   "source": [
    "---"
   ]
  },
  {
   "cell_type": "markdown",
   "id": "dac89f39",
   "metadata": {},
   "source": [
    "<a id='set1q7'></a>\n",
    "### Bonus Question 7. Visualize the daily min, average, and max temperature over time on a single line plot, i.e. the min, average, and maximum temperature should be 3 seperate lines.\n",
    "\n",
    "\n",
    "<li><a href='#TableOfContents'>Table of Contents</a></li>\n",
    "<li><a href='#set1'>'data.sf_temps()' Set Top</a></li>"
   ]
  },
  {
   "cell_type": "code",
   "execution_count": null,
   "id": "c8ab8413",
   "metadata": {},
   "outputs": [],
   "source": []
  },
  {
   "cell_type": "markdown",
   "id": "c4a92249",
   "metadata": {},
   "source": [
    "<div style='background-color: orange'>\n",
    "<a id='set2'></a>\n",
    "    <b><u><i><h1 style='text-align: center'>\n",
    "        'data.seattle_weather()' Set\n",
    "    </h1></i></u></b>\n",
    "<li><a href='#TableOfContents'>Table of Contents</a></li>\n",
    "<li><a href='#set2q1'>Question 1</a></li>\n",
    "<li><a href='#set2q2'>Question 2</a></li>\n",
    "<li><a href='#set2q3'>Question 3</a></li>\n",
    "<li><a href='#set2q4'>Question 4</a></li>\n",
    "<li><a href='#set2q5'>Question 5</a></li>\n",
    "<li><a href='#set2q6'>Question 6</a></li>\n",
    "<li><a href='#set2q7'>Question 7</a></li>"
   ]
  },
  {
   "cell_type": "markdown",
   "id": "73347553",
   "metadata": {},
   "source": [
    "data.seattle_weather()\n",
    "\n",
    "Use the above dataset for the following exercises:"
   ]
  },
  {
   "cell_type": "markdown",
   "id": "fa233fd8",
   "metadata": {},
   "source": [
    "---"
   ]
  },
  {
   "cell_type": "markdown",
   "id": "285671d9",
   "metadata": {},
   "source": [
    "<a id='set2q1'></a>\n",
    "### 1. Which year and month combination has the highest amount of precipitation?\n",
    "\n",
    "<li><a href='#TableOfContents'>Table of Contents</a></li>\n",
    "<li><a href='#set2'>'data.seattle_weather()' Set Top</a></li>"
   ]
  },
  {
   "cell_type": "code",
   "execution_count": null,
   "id": "7a861917",
   "metadata": {},
   "outputs": [],
   "source": []
  },
  {
   "cell_type": "markdown",
   "id": "7e1fa7eb",
   "metadata": {},
   "source": [
    "---"
   ]
  },
  {
   "cell_type": "markdown",
   "id": "0a55ff66",
   "metadata": {},
   "source": [
    "<a id='set2q2'></a>\n",
    "### 2. Visualize the amount of monthly precipitation over time.\n",
    "\n",
    "<li><a href='#TableOfContents'>Table of Contents</a></li>\n",
    "<li><a href='#set2'>'data.seattle_weather()' Set Top</a></li>"
   ]
  },
  {
   "cell_type": "code",
   "execution_count": null,
   "id": "9eb9b8d1",
   "metadata": {},
   "outputs": [],
   "source": []
  },
  {
   "cell_type": "markdown",
   "id": "d5a43d0a",
   "metadata": {},
   "source": [
    "---"
   ]
  },
  {
   "cell_type": "markdown",
   "id": "3b6a3896",
   "metadata": {},
   "source": [
    "<a id='set2q3'></a>\n",
    "### 3. Visualize the amount of wind over time. Choose a time interval you think is appropriate.\n",
    "\n",
    "<li><a href='#TableOfContents'>Table of Contents</a></li>\n",
    "<li><a href='#set2'>'data.seattle_weather()' Set Top</a></li>"
   ]
  },
  {
   "cell_type": "code",
   "execution_count": null,
   "id": "2f861664",
   "metadata": {},
   "outputs": [],
   "source": []
  },
  {
   "cell_type": "markdown",
   "id": "95b8444c",
   "metadata": {},
   "source": [
    "---"
   ]
  },
  {
   "cell_type": "markdown",
   "id": "50b765a5",
   "metadata": {},
   "source": [
    "<a id='set2q4'></a>\n",
    "### 4. Which year-month combination is the windiest?\n",
    "\n",
    "<li><a href='#TableOfContents'>Table of Contents</a></li>\n",
    "<li><a href='#set2'>'data.seattle_weather()' Set Top</a></li>"
   ]
  },
  {
   "cell_type": "code",
   "execution_count": null,
   "id": "680a92e4",
   "metadata": {},
   "outputs": [],
   "source": []
  },
  {
   "cell_type": "markdown",
   "id": "cc021c3e",
   "metadata": {},
   "source": [
    "---"
   ]
  },
  {
   "cell_type": "markdown",
   "id": "ac7c0208",
   "metadata": {},
   "source": [
    "<a id='set2q5'></a>\n",
    "### 5. What's the sunniest year? (Hint: which day has the highest number of days where weather == sun?)\n",
    "\n",
    "<li><a href='#TableOfContents'>Table of Contents</a></li>\n",
    "<li><a href='#set2'>'data.seattle_weather()' Set Top</a></li>"
   ]
  },
  {
   "cell_type": "code",
   "execution_count": null,
   "id": "e58fc7c2",
   "metadata": {},
   "outputs": [],
   "source": []
  },
  {
   "cell_type": "markdown",
   "id": "154eddb1",
   "metadata": {},
   "source": [
    "---"
   ]
  },
  {
   "cell_type": "markdown",
   "id": "ab21f478",
   "metadata": {},
   "source": [
    "<a id='set2q6'></a>\n",
    "### 6. In which month does it rain the most?\n",
    "\n",
    "<li><a href='#TableOfContents'>Table of Contents</a></li>\n",
    "<li><a href='#set2'>'data.seattle_weather()' Set Top</a></li>"
   ]
  },
  {
   "cell_type": "code",
   "execution_count": null,
   "id": "7baaa890",
   "metadata": {},
   "outputs": [],
   "source": []
  },
  {
   "cell_type": "markdown",
   "id": "4da2b0a3",
   "metadata": {},
   "source": [
    "---"
   ]
  },
  {
   "cell_type": "markdown",
   "id": "edb5d3c4",
   "metadata": {},
   "source": [
    "<a id='set2q7'></a>\n",
    "### 7. Which month has the most number of days with a non-zero amount of precipitation?\n",
    "\n",
    "<li><a href='#TableOfContents'>Table of Contents</a></li>\n",
    "<li><a href='#set2'>'data.seattle_weather()' Set Top</a></li>"
   ]
  },
  {
   "cell_type": "code",
   "execution_count": null,
   "id": "cdcf178d",
   "metadata": {},
   "outputs": [],
   "source": []
  },
  {
   "cell_type": "markdown",
   "id": "458bcebb",
   "metadata": {},
   "source": [
    "<div style='background-color: orange'>\n",
    "<a id='set3'></a>\n",
    "    <b><u><i><h1 style='text-align: center'>\n",
    "        'data.flights_20k()' Set\n",
    "    </h1></i></u></b>\n",
    "<li><a href='#TableOfContents'>Table of Contents</a></li>\n",
    "<li><a href='#set3q1'>Question 1</a></li>\n",
    "<li><a href='#set3q2'>Question 2</a></li>\n",
    "<li><a href='#set3q3'>Question 3</a></li>\n",
    "<li><a href='#set3q4'>Question 4</a></li>"
   ]
  },
  {
   "cell_type": "markdown",
   "id": "1fd223a9",
   "metadata": {},
   "source": [
    "data.flights_20k()\n",
    "\n",
    "Use the above dataset for the following exercises:"
   ]
  },
  {
   "cell_type": "markdown",
   "id": "ca09158a",
   "metadata": {},
   "source": [
    "<a id='set3q1'></a>\n",
    "### 1. Convert any negative delays to 0.\n",
    "\n",
    "<li><a href='#TableOfContents'>Table of Contents</a></li>\n",
    "<li><a href='#set3'>'data.flights_20k()' Set Top</a></li>"
   ]
  },
  {
   "cell_type": "code",
   "execution_count": null,
   "id": "fdb826d1",
   "metadata": {},
   "outputs": [],
   "source": []
  },
  {
   "cell_type": "markdown",
   "id": "25ac0854",
   "metadata": {},
   "source": [
    "---"
   ]
  },
  {
   "cell_type": "markdown",
   "id": "5ed1f759",
   "metadata": {},
   "source": [
    "<a id='set3q2'></a>\n",
    "### 2. Which hour of the day has the highest average delay?\n",
    "\n",
    "<li><a href='#TableOfContents'>Table of Contents</a></li>\n",
    "<li><a href='#set3'>'data.flights_20k()' Set Top</a></li>"
   ]
  },
  {
   "cell_type": "code",
   "execution_count": null,
   "id": "bb213b84",
   "metadata": {},
   "outputs": [],
   "source": []
  },
  {
   "cell_type": "markdown",
   "id": "baa0778f",
   "metadata": {},
   "source": [
    "---"
   ]
  },
  {
   "cell_type": "markdown",
   "id": "c91584d6",
   "metadata": {},
   "source": [
    "<a id='set3q3'></a>\n",
    "### 3. Does the day of the week make a difference in the delay amount?\n",
    "\n",
    "<li><a href='#TableOfContents'>Table of Contents</a></li>\n",
    "<li><a href='#set3'>'data.flights_20k()' Set Top</a></li>"
   ]
  },
  {
   "cell_type": "code",
   "execution_count": null,
   "id": "b5012d83",
   "metadata": {},
   "outputs": [],
   "source": []
  },
  {
   "cell_type": "markdown",
   "id": "489a886b",
   "metadata": {},
   "source": [
    "---"
   ]
  },
  {
   "cell_type": "markdown",
   "id": "c50bbd4d",
   "metadata": {},
   "source": [
    "<a id='set3q4'></a>\n",
    "### 4. Does the month make a difference in the delay amount?\n",
    "\n",
    "<li><a href='#TableOfContents'>Table of Contents</a></li>\n",
    "<li><a href='#set3'>'data.flights_20k()' Set Top</a></li>"
   ]
  },
  {
   "cell_type": "code",
   "execution_count": null,
   "id": "580d8dfd",
   "metadata": {},
   "outputs": [],
   "source": []
  },
  {
   "cell_type": "markdown",
   "id": "b466fe15",
   "metadata": {},
   "source": [
    "<div style='background-color: orange'>\n",
    "<a id='bonusset1'></a>\n",
    "    <b><u><i><h1 style='text-align: center'>\n",
    "        'data.iowa_electricity()' Bonus Set\n",
    "    </h1></i></u></b>\n",
    "<li><a href='#TableOfContents'>Table of Contents</a></li>\n",
    "<li><a href='#bonusset1q1'>Question 1</a></li>\n",
    "<li><a href='#bonusset1q2'>Question 2</a></li>\n",
    "<li><a href='#bonusset1q3'>Question 3</a></li>\n",
    "<li><a href='#bonusset1q4'>Question 4</a></li>\n",
    "<li><a href='#bonusset1q5'>Question 5</a></li>"
   ]
  },
  {
   "cell_type": "markdown",
   "id": "faef55f7",
   "metadata": {},
   "source": [
    "data.iowa_electricity()\n",
    "\n",
    "Use the above dataset for the following exercises:"
   ]
  },
  {
   "cell_type": "markdown",
   "id": "b599109e",
   "metadata": {},
   "source": [
    "---"
   ]
  },
  {
   "cell_type": "markdown",
   "id": "8db46e11",
   "metadata": {},
   "source": [
    "<a id='bonusset1q1'></a>\n",
    "### 1. For each row, calculate the percentage of the year's total that energy source provided.\n",
    "\n",
    "<li><a href='#TableOfContents'>Table of Contents</a></li>\n",
    "<li><a href='#bonusset1'>'data.iowa_electricity()' Bonus Set Top</a></li>"
   ]
  },
  {
   "cell_type": "code",
   "execution_count": null,
   "id": "6777d002",
   "metadata": {},
   "outputs": [],
   "source": []
  },
  {
   "cell_type": "markdown",
   "id": "964bb0e2",
   "metadata": {},
   "source": [
    "---"
   ]
  },
  {
   "cell_type": "markdown",
   "id": "d23f8ecc",
   "metadata": {},
   "source": [
    "<a id='bonusset1q2'></a>\n",
    "### 2. Lineplot of generation over time, color by source\n",
    "\n",
    "<li><a href='#TableOfContents'>Table of Contents</a></li>\n",
    "<li><a href='#bonusset1'>'data.iowa_electricity()' Bonus Set Top</a></li>"
   ]
  },
  {
   "cell_type": "code",
   "execution_count": null,
   "id": "8a06b370",
   "metadata": {},
   "outputs": [],
   "source": []
  },
  {
   "cell_type": "markdown",
   "id": "5ffd034f",
   "metadata": {},
   "source": [
    "---"
   ]
  },
  {
   "cell_type": "markdown",
   "id": "f3a46929",
   "metadata": {},
   "source": [
    "<a id='bonusset1q3'></a>\n",
    "### 3. Display the data as table where years are columns, and energy source is rows (Hint: df.pivot_table)\n",
    "\n",
    "<li><a href='#TableOfContents'>Table of Contents</a></li>\n",
    "<li><a href='#bonusset1'>'data.iowa_electricity()' Bonus Set Top</a></li>"
   ]
  },
  {
   "cell_type": "code",
   "execution_count": null,
   "id": "48a1cdc3",
   "metadata": {},
   "outputs": [],
   "source": []
  },
  {
   "cell_type": "markdown",
   "id": "047d1d38",
   "metadata": {},
   "source": [
    "---"
   ]
  },
  {
   "cell_type": "markdown",
   "id": "73d6157b",
   "metadata": {},
   "source": [
    "<a id='bonusset1q4'></a>\n",
    "### 4. Make a line plot that shows the amount of energy generated over time. Each source should be a separate line?\n",
    "\n",
    "\n",
    "<li><a href='#TableOfContents'>Table of Contents</a></li>\n",
    "<li><a href='#bonusset1'>'data.iowa_electricity()' Bonus Set Top</a></li>"
   ]
  },
  {
   "cell_type": "code",
   "execution_count": null,
   "id": "c0a73d9f",
   "metadata": {},
   "outputs": [],
   "source": []
  },
  {
   "cell_type": "markdown",
   "id": "6ee71034",
   "metadata": {},
   "source": [
    "---"
   ]
  },
  {
   "cell_type": "markdown",
   "id": "0bbfa98e",
   "metadata": {},
   "source": [
    "<a id='bonusset1q5'></a>\n",
    "### 5. Is the total generation increasing over time?\n",
    "\n",
    "\n",
    "<li><a href='#TableOfContents'>Table of Contents</a></li>\n",
    "<li><a href='#bonusset1'>'data.iowa_electricity()' Bonus Set Top</a></li>"
   ]
  },
  {
   "cell_type": "markdown",
   "id": "980efc87",
   "metadata": {},
   "source": [
    "##### How would you control for increasing consumption over time when considering how much energy is coming from each source?"
   ]
  },
  {
   "cell_type": "code",
   "execution_count": null,
   "id": "7aaf8fdb",
   "metadata": {},
   "outputs": [],
   "source": []
  },
  {
   "cell_type": "markdown",
   "id": "cd8ade12",
   "metadata": {},
   "source": [
    "##### express each number as a % of the year's total"
   ]
  },
  {
   "cell_type": "code",
   "execution_count": null,
   "id": "7882edf2",
   "metadata": {},
   "outputs": [],
   "source": []
  },
  {
   "cell_type": "markdown",
   "id": "fad2abca",
   "metadata": {},
   "source": [
    "<div style='background-color: orange'>\n",
    "<a id='bonusset2'></a>\n",
    "    <b><u><i><h1 style='text-align: center'>\n",
    "        'data.sf_temps()' Bonus Set\n",
    "    </h1></i></u></b>\n",
    "<li><a href='#TableOfContents'>Table of Contents</a></li>\n",
    "<li><a href='#bonusset2q1'>Question 1</a></li>\n",
    "<li><a href='#bonusset2q2'>Question 2</a></li>\n",
    "<li><a href='#bonusset2q3'>Question 3</a></li>\n",
    "<li><a href='#bonusset2q4'>Question 4</a></li>\n",
    "<li><a href='#bonusset2q5'>Question 5</a></li>"
   ]
  },
  {
   "cell_type": "markdown",
   "id": "17b4dce2",
   "metadata": {},
   "source": [
    "<a id='bonusset2q1'></a>\n",
    "### 1. Use the sf_temps dataset\n",
    "\n",
    "\n",
    "<li><a href='#TableOfContents'>Table of Contents</a></li>\n",
    "<li><a href='#bonusset2'>'data.sf_temps()' Bonus Set Top</a></li>"
   ]
  },
  {
   "cell_type": "code",
   "execution_count": null,
   "id": "bb90cf0e",
   "metadata": {},
   "outputs": [],
   "source": []
  },
  {
   "cell_type": "markdown",
   "id": "bd83f649",
   "metadata": {},
   "source": [
    "---"
   ]
  },
  {
   "cell_type": "markdown",
   "id": "b65e7091",
   "metadata": {},
   "source": [
    "<a id='bonusset2q2'></a>\n",
    "### 2. Create 4 categories for temperature, cold, cool, warm, hot (hint: use pd.cut or pd.qcut for this)\n",
    "\n",
    "\n",
    "<li><a href='#TableOfContents'>Table of Contents</a></li>\n",
    "<li><a href='#bonusset2'>'data.sf_temps()' Bonus Set Top</a></li>"
   ]
  },
  {
   "cell_type": "code",
   "execution_count": null,
   "id": "72851207",
   "metadata": {},
   "outputs": [],
   "source": []
  },
  {
   "cell_type": "markdown",
   "id": "9035576f",
   "metadata": {},
   "source": [
    "---"
   ]
  },
  {
   "cell_type": "markdown",
   "id": "f7e88195",
   "metadata": {},
   "source": [
    "<a id='bonusset2q3'></a>\n",
    "### 3. How does the occurances of these 4 categories change month over month? i.e. how many days have each distinction? Visualize this and give the visual appropriate colors for each category.\n",
    "\n",
    "\n",
    "<li><a href='#TableOfContents'>Table of Contents</a></li>\n",
    "<li><a href='#bonusset2'>'data.sf_temps()' Bonus Set Top</a></li>"
   ]
  },
  {
   "cell_type": "code",
   "execution_count": null,
   "id": "fe4ea2b0",
   "metadata": {},
   "outputs": [],
   "source": []
  },
  {
   "cell_type": "markdown",
   "id": "bc197041",
   "metadata": {},
   "source": [
    "---"
   ]
  },
  {
   "cell_type": "markdown",
   "id": "6206f9cb",
   "metadata": {},
   "source": [
    "<a id='bonusset2q4'></a>\n",
    "### 4. Create pretty labels for time plots\n",
    "\n",
    "\n",
    "<li><a href='#TableOfContents'>Table of Contents</a></li>\n",
    "<li><a href='#bonusset2'>'data.sf_temps()' Bonus Set Top</a></li>"
   ]
  },
  {
   "cell_type": "code",
   "execution_count": null,
   "id": "5c8be846",
   "metadata": {},
   "outputs": [],
   "source": []
  },
  {
   "cell_type": "markdown",
   "id": "9223d206",
   "metadata": {},
   "source": [
    "---"
   ]
  },
  {
   "cell_type": "markdown",
   "id": "906c827d",
   "metadata": {},
   "source": [
    "<a id='bonusset2q5'></a>\n",
    "### 5. Visualize the number of days of each month that fall into each bin by year (e.g. x=month, y=n_days, hue=temp_bin) or st similar\n",
    "\n",
    "\n",
    "<li><a href='#TableOfContents'>Table of Contents</a></li>\n",
    "<li><a href='#bonusset2'>'data.sf_temps()' Bonus Set Top</a></li>"
   ]
  },
  {
   "cell_type": "code",
   "execution_count": null,
   "id": "11877ac4",
   "metadata": {},
   "outputs": [],
   "source": []
  },
  {
   "cell_type": "markdown",
   "id": "a9f4cc9a",
   "metadata": {},
   "source": [
    "<div style='background-color: orange'>\n",
    "<a id='bonusset3'></a>\n",
    "    <b><u><i><h1 style='text-align: center'>\n",
    "        'data.birdstrikes()' Bonus Set\n",
    "    </h1></i></u></b>\n",
    "<li><a href='#TableOfContents'>Table of Contents</a></li>\n",
    "<li><a href='#explorebonusset3'>Explore</a></li>"
   ]
  },
  {
   "cell_type": "markdown",
   "id": "c62d4397",
   "metadata": {},
   "source": [
    "<a id='explorebonusset3'></a>\n",
    "### Explore\n",
    "\n",
    "\n",
    "<li><a href='#TableOfContents'>Table of Contents</a></li>\n",
    "<li><a href='#bonusset3'>'data.birdstrikes()' Bonus Set Top</a></li>"
   ]
  },
  {
   "cell_type": "code",
   "execution_count": null,
   "id": "f4612f19",
   "metadata": {},
   "outputs": [],
   "source": []
  }
 ],
 "metadata": {
  "kernelspec": {
   "display_name": "Python 3 (ipykernel)",
   "language": "python",
   "name": "python3"
  },
  "language_info": {
   "codemirror_mode": {
    "name": "ipython",
    "version": 3
   },
   "file_extension": ".py",
   "mimetype": "text/x-python",
   "name": "python",
   "nbconvert_exporter": "python",
   "pygments_lexer": "ipython3",
   "version": "3.9.13"
  }
 },
 "nbformat": 4,
 "nbformat_minor": 5
}
