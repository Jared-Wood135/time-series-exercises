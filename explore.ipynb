{
 "cells": [
  {
   "cell_type": "markdown",
   "id": "468f91d2",
   "metadata": {},
   "source": [
    "<div style=\"background-color: orange\">\n",
    "<a id='TableOfContents'></a>\n",
    "    <b><u><i><h1 style='text-align: center'>\n",
    "        Table of Contents\n",
    "    </h1></i></u></b>\n",
    "<li><a href='#imports'>Imports</a></li>\n",
    "<li><a href='#store'>Store Set</a></li>\n",
    "<li><a href='#germany'>Germany Set</a></li>"
   ]
  },
  {
   "cell_type": "markdown",
   "id": "d8c3fd19",
   "metadata": {},
   "source": [
    "<div style='background-color: orange'>\n",
    "<a id='imports'></a>\n",
    "    <b><u><i><h1 style='text-align: center'>\n",
    "        Imports\n",
    "    </h1></i></u></b>\n",
    "<li><a href='#TableOfContents'>Table of Contents</a></li>"
   ]
  },
  {
   "cell_type": "code",
   "execution_count": 1,
   "id": "4ff916e3",
   "metadata": {},
   "outputs": [],
   "source": [
    "# Vectorization and dataframing\n",
    "import numpy as np\n",
    "import pandas as pd\n",
    "\n",
    "# Visualizations\n",
    "import matplotlib.pyplot as plt\n",
    "import seaborn as sns\n",
    "\n",
    "# .py file\n",
    "import wrangle as w"
   ]
  },
  {
   "cell_type": "markdown",
   "id": "3ad4de6a",
   "metadata": {},
   "source": [
    "<div style='background-color: orange'>\n",
    "<a id='store'></a>\n",
    "    <b><u><i><h1 style='text-align: center'>\n",
    "        Store Set\n",
    "    </h1></i></u></b>\n",
    "<li><a href='#TableOfContents'>Table of Contents</a></li>\n",
    "<li><a href='#storesplit'>Split</a></li>\n",
    "<li><a href='#storevisual'>Visual</a></li>\n",
    "<li><a href='#storemisc'>Miscellaneous</a></li>"
   ]
  },
  {
   "cell_type": "markdown",
   "id": "d4b1aa55",
   "metadata": {},
   "source": [
    "<a id='storesplit'></a>\n",
    "### Split\n",
    "\n",
    "<li><a href='#TableOfContents'>Table of Contents</a></li>\n",
    "<li><a href='#store'>Store Set Top</a></li>"
   ]
  },
  {
   "cell_type": "code",
   "execution_count": 2,
   "id": "a09f066b",
   "metadata": {},
   "outputs": [
    {
     "data": {
      "text/plain": [
       "((511279, 14), (219121, 14), (182600, 14))"
      ]
     },
     "execution_count": 2,
     "metadata": {},
     "output_type": "execute_result"
    }
   ],
   "source": [
    "store_train, store_val, store_test = w.wrangle_store()\n",
    "store_train.shape, store_val.shape, store_test.shape"
   ]
  },
  {
   "cell_type": "code",
   "execution_count": 10,
   "id": "25a3f0a3",
   "metadata": {},
   "outputs": [
    {
     "data": {
      "text/plain": [
       "(1000, 14)"
      ]
     },
     "execution_count": 10,
     "metadata": {},
     "output_type": "execute_result"
    }
   ],
   "source": [
    "# Reduce size to expedite exploration\n",
    "store_train_reduced = store_train.sample(1000)\n",
    "store_train_reduced.shape"
   ]
  },
  {
   "cell_type": "markdown",
   "id": "bbe91112",
   "metadata": {},
   "source": [
    "---"
   ]
  },
  {
   "cell_type": "markdown",
   "id": "75e02bc9",
   "metadata": {},
   "source": [
    "<a id='storevisual'></a>\n",
    "### Visual\n",
    "\n",
    "<li><a href='#TableOfContents'>Table of Contents</a></li>\n",
    "<li><a href='#store'>Store Set Top</a></li>"
   ]
  },
  {
   "cell_type": "code",
   "execution_count": null,
   "id": "c64df172",
   "metadata": {},
   "outputs": [],
   "source": []
  },
  {
   "cell_type": "markdown",
   "id": "ec364b47",
   "metadata": {},
   "source": [
    "---"
   ]
  },
  {
   "cell_type": "markdown",
   "id": "92db5844",
   "metadata": {},
   "source": [
    "<a id='storemisc'></a>\n",
    "### Miscellaneous\n",
    "\n",
    "<li><a href='#TableOfContents'>Table of Contents</a></li>\n",
    "<li><a href='#store'>Store Set Top</a></li>"
   ]
  },
  {
   "cell_type": "code",
   "execution_count": null,
   "id": "fbce76e4",
   "metadata": {},
   "outputs": [],
   "source": []
  },
  {
   "cell_type": "markdown",
   "id": "81c0be58",
   "metadata": {},
   "source": [
    "<div style='background-color: orange'>\n",
    "<a id='germany'></a>\n",
    "    <b><u><i><h1 style='text-align: center'>\n",
    "        Germany Set\n",
    "    </h1></i></u></b>\n",
    "<li><a href='#TableOfContents'>Table of Contents</a></li>\n",
    "<li><a href='#germanysplit'>Split</a></li>\n",
    "<li><a href='#germanyvisual'>Visual</a></li>\n",
    "<li><a href='#germanymisc'>Miscellaneous</a></li>"
   ]
  },
  {
   "cell_type": "markdown",
   "id": "17a1206e",
   "metadata": {},
   "source": [
    "<a id='germanysplit'></a>\n",
    "### Split\n",
    "\n",
    "<li><a href='#TableOfContents'>Table of Contents</a></li>\n",
    "<li><a href='#germany'>Germany Set Top</a></li>"
   ]
  },
  {
   "cell_type": "code",
   "execution_count": 3,
   "id": "05bb709d",
   "metadata": {},
   "outputs": [
    {
     "data": {
      "text/plain": [
       "((2454, 6), (1052, 6), (877, 6))"
      ]
     },
     "execution_count": 3,
     "metadata": {},
     "output_type": "execute_result"
    }
   ],
   "source": [
    "germany_train, germany_val, germany_test = w.wrangle_germany()\n",
    "germany_train.shape, germany_val.shape, germany_test.shape"
   ]
  },
  {
   "cell_type": "markdown",
   "id": "cc2c8494",
   "metadata": {},
   "source": [
    "---"
   ]
  },
  {
   "cell_type": "markdown",
   "id": "22669b95",
   "metadata": {},
   "source": [
    "<a id='germanyvisual'></a>\n",
    "### Visual\n",
    "\n",
    "<li><a href='#TableOfContents'>Table of Contents</a></li>\n",
    "<li><a href='#germany'>Germany Set Top</a></li>"
   ]
  },
  {
   "cell_type": "code",
   "execution_count": null,
   "id": "d00c0b56",
   "metadata": {},
   "outputs": [],
   "source": []
  },
  {
   "cell_type": "markdown",
   "id": "95b6f62f",
   "metadata": {},
   "source": [
    "---"
   ]
  },
  {
   "cell_type": "markdown",
   "id": "75e10932",
   "metadata": {},
   "source": [
    "<a id='germanymisc'></a>\n",
    "### Miscellaneous\n",
    "\n",
    "<li><a href='#TableOfContents'>Table of Contents</a></li>\n",
    "<li><a href='#germany'>Germany Set Top</a></li>"
   ]
  },
  {
   "cell_type": "code",
   "execution_count": null,
   "id": "54d5ed92",
   "metadata": {},
   "outputs": [],
   "source": []
  }
 ],
 "metadata": {
  "kernelspec": {
   "display_name": "Python 3 (ipykernel)",
   "language": "python",
   "name": "python3"
  },
  "language_info": {
   "codemirror_mode": {
    "name": "ipython",
    "version": 3
   },
   "file_extension": ".py",
   "mimetype": "text/x-python",
   "name": "python",
   "nbconvert_exporter": "python",
   "pygments_lexer": "ipython3",
   "version": "3.9.13"
  }
 },
 "nbformat": 4,
 "nbformat_minor": 5
}
